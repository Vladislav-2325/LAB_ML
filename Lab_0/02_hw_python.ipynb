{
 "cells": [
  {
   "cell_type": "markdown",
   "metadata": {
    "id": "OG47uuSFIPzH"
   },
   "source": [
    "# Homework Python 3\n",
    "\n",
    "С базовыми фичами языка можно ознакомиться [в теории](01_tt_python.md).\n",
    "\n",
    "Для закрепления знаний, решите следующие задачи."
   ]
  },
  {
   "cell_type": "markdown",
   "metadata": {
    "id": "FHDnL8MUIPzI"
   },
   "source": [
    "# Задание 1. Word Count\n",
    "\n",
    "Посчитать сколько раз каждое слово повторялось в тексте. Вывести 10 самых частых слов отсортированных по частоте. Игнорировать однобуквенные слова и пунктуацию. Слова в предложении - это наборы символов отделенные друг от друга пробельными символами (пробел, табуляция, новая строка).\n",
    "\n",
    "**Hint**: вам понадобится `dict` и метод `get(key)`, который возвращает `None`, если значения отсутсвует.\n",
    "\n",
    "**Advanced**: Нарисуйте bar-plot график количества слов в предложении. (Используйте библиотеку seaborn)"
   ]
  },
  {
   "cell_type": "code",
   "execution_count": 1,
   "metadata": {
    "colab": {
     "base_uri": "https://localhost:8080/",
     "height": 430
    },
    "executionInfo": {
     "elapsed": 5574,
     "status": "ok",
     "timestamp": 1733310542089,
     "user": {
      "displayName": "tien san",
      "userId": "04520947246998281854"
     },
     "user_tz": -600
    },
    "id": "2BbErB_8IPzJ",
    "outputId": "a88e1428-ea13-4219-9eb2-a2fdddea3602"
   },
   "outputs": [
    {
     "name": "stderr",
     "output_type": "stream",
     "text": [
      "c:\\Python\\lib\\site-packages\\seaborn\\_core.py:1462: FutureWarning: unique with argument that is not not a Series, Index, ExtensionArray, or np.ndarray is deprecated and will raise in a future version.\n",
      "  order = pd.unique(vector)\n"
     ]
    },
    {
     "data": {
      "image/png": "[encoded data removed]",
      "text/plain": [
       "<Figure size 640x480 with 1 Axes>"
      ]
     },
     "metadata": {},
     "output_type": "display_data"
    }
   ],
   "source": [
    "import seaborn as sns # type: ignore\n",
    "import re\n",
    "\n",
    "def word_count(text):\n",
    "    dict = {}\n",
    "    text = re.sub(r'[^\\w\\s]', '', text) # Удаляем пунктуацию и приводим к нижнему регистрe\n",
    "    \n",
    "    for word in text.split():\n",
    "        if len(word) > 1:\n",
    "          dict[word] = dict.get(word, 0) + 1\n",
    "\n",
    "    words = []\n",
    "    counts = []\n",
    "    top10 = sorted(dict.items(), key=lambda item: item[1], reverse=True)[:10]\n",
    "    \n",
    "    for word, count in top10:\n",
    "      words.append(word)\n",
    "      counts.append(count)\n",
    "    sns.barplot(x=words, y=counts)\n",
    "word_count(\"aa aa aa bb cc cc A B C a AA\")\n"
   ]
  },
  {
   "cell_type": "code",
   "execution_count": 2,
   "metadata": {
    "colab": {
     "base_uri": "https://localhost:8080/",
     "height": 49,
     "referenced_widgets": [
      "16ce3ff11d4a481ea7b1b988d8e31f2c",
      "cf58ddade00b4bdca67bd2231e6dc4e4",
      "80d05574cdfb40eb8f147f5e331599f9"
     ]
    },
    "executionInfo": {
     "elapsed": 12,
     "status": "ok",
     "timestamp": 1733310542089,
     "user": {
      "displayName": "tien san",
      "userId": "04520947246998281854"
     },
     "user_tz": -600
    },
    "id": "mMathQVNIPzK",
    "outputId": "97cd2345-3db7-4785-fb28-11f8924d8ef0"
   },
   "outputs": [
    {
     "data": {
      "application/vnd.jupyter.widget-view+json": {
       "model_id": "16ce3ff11d4a481ea7b1b988d8e31f2c",
       "version_major": 2,
       "version_minor": 0
      },
      "text/plain": [
       "Text(value='', placeholder='тут текст')"
      ]
     },
     "metadata": {},
     "output_type": "display_data"
    }
   ],
   "source": [
    "# Это магия для ввода текста, не трогайте её\n",
    "# Выполните эту ячейку и увидите поле для ввода текста.\n",
    "# Введите текст, нажмите Enter и получите ответ, который вы вычислили в функции выше\n",
    "from ipywidgets import widgets\n",
    "text = widgets.Text(placeholder=\"тут текст\")\n",
    "display(text)\n",
    "text.on_submit(lambda txt: word_count(txt.value))\n",
    "\n",
    "# введите число и нажмите enter"
   ]
  },
  {
   "cell_type": "markdown",
   "metadata": {
    "id": "bUSx4-quIPzK"
   },
   "source": [
    "# Задание 2. Сумма цифр числа\n",
    "\n",
    "Посчитать сумму цифр данного натурального числа. Например, `summa(1234) == 1+2+3+4 == 10`."
   ]
  },
  {
   "cell_type": "code",
   "execution_count": 1,
   "metadata": {
    "colab": {
     "base_uri": "https://localhost:8080/"
    },
    "executionInfo": {
     "elapsed": 10,
     "status": "ok",
     "timestamp": 1733310542090,
     "user": {
      "displayName": "tien san",
      "userId": "04520947246998281854"
     },
     "user_tz": -600
    },
    "id": "6NSuDZ5wIPzL",
    "outputId": "7ed1d43d-cd18-430a-9e97-ba6eecc2fce9"
   },
   "outputs": [
    {
     "data": {
      "text/plain": [
       "10"
      ]
     },
     "execution_count": 1,
     "metadata": {},
     "output_type": "execute_result"
    }
   ],
   "source": [
    "def summa(n):\n",
    "    if n <= 0:\n",
    "        return None\n",
    "    total_sum = 0\n",
    "    while n > 0:\n",
    "        digit = n % 10  \n",
    "        total_sum += digit  \n",
    "        n //= 10  \n",
    "\n",
    "    return total_sum\n",
    "summa(1234)"
   ]
  },
  {
   "cell_type": "markdown",
   "metadata": {
    "id": "cLLF-B3_IPzL"
   },
   "source": [
    "> Человеку свойственна итерация, рекурсия – удел богов. \\(James O. Coplien, Bell Labs\\)"
   ]
  },
  {
   "cell_type": "code",
   "execution_count": 4,
   "metadata": {
    "colab": {
     "base_uri": "https://localhost:8080/"
    },
    "executionInfo": {
     "elapsed": 8,
     "status": "ok",
     "timestamp": 1733310542090,
     "user": {
      "displayName": "tien san",
      "userId": "04520947246998281854"
     },
     "user_tz": -600
    },
    "id": "n2qiQiRtIPzL",
    "outputId": "e48e6b8d-da8f-4ddf-c871-a9bd6db7c9c8"
   },
   "outputs": [
    {
     "data": {
      "text/plain": [
       "10"
      ]
     },
     "execution_count": 4,
     "metadata": {},
     "output_type": "execute_result"
    }
   ],
   "source": [
    "def summa_recursive(n):\n",
    "    if n == 0:\n",
    "        return 0\n",
    "    last_digit = n % 10\n",
    "    return last_digit + summa_recursive(n // 10)\n",
    "summa_recursive(1234)\n"
   ]
  },
  {
   "cell_type": "markdown",
   "metadata": {
    "id": "RKeFGjJQIPzL"
   },
   "source": [
    "# Задание 3. Множество\n",
    "\n",
    "Это необязательное задание. Но можете сделать для себя, а мы сделаем вам review.\n",
    "\n",
    "## Теория\n",
    "\n",
    "Множество - это набор **различных** объектов. Это означает, что в нём нет повторяющихся объектов. `[1,2,3]` - множество, а `[1,2,2,3,1]` - не удовлетворяет определению.\n",
    "\n",
    "Множество - это абстрактная структура данных и её можно реализовать несколькими способами. Но для начала определим поведения для этой абстракции.\n",
    "\n",
    "#### Базовые операции:\n",
    "\n",
    "Этот набор поведений определяет саму абстракцию.\n",
    "\n",
    "- добавить элемент в множество\n",
    "- объединить множества\n",
    "- пересечь множества\n",
    "- проверка принадлежности элемента множеству\n",
    "\n",
    "#### Вспомогательные:\n",
    "\n",
    "Это дополнительные функции. Они просто помогают пользоваться этой абстракцией.\n",
    "\n",
    "- вычислить длину\n",
    "- итерация по множеству\n",
    "- создать множество из списка элементов\n",
    "- сконвертировать множество в список\n",
    "\n",
    "### Реализации\n",
    "\n",
    "По определению, множество предоставляет только одну услугу - хранит только разные элементы. Порядок хранить оно не обязано, доступа по индексу тоже нет. Тогда на основе чего можно построить эту абстракцию?\n",
    "\n",
    "#### Список\n",
    "\n",
    "Мы можем создать множества на основе списка и просто проверять при каждой вставке в него то, есть ли в нём уже этот элемент или нет.\n",
    "\n",
    "Преимущества:\n",
    "- легко сделать\n",
    "\n",
    "Недостатки:\n",
    "- долгий поиск принадлежности и вставки O(n)\n",
    "- очень долгое пересечение O(n^2)\n",
    "\n",
    "#### Упорядоченный список\n",
    "\n",
    "А что если хранить все элементы в списке упорядоченно? Тогда вставка будет занимать меньше времени в среднем: O(n/2). Но это тот же порядок.\n",
    "\n",
    "#### Деревья поиска\n",
    "\n",
    "Существует такая структура данных как дерево. Оно было создано специально для решения задачи поиска. В сбалансированном дереве поиск элемента имеет сложность O(log_2(n)), что очень хорошо. Сравните её с O(n):\n",
    "\n",
    "![](https://habrastorage.org/getpro/habr/post_images/195/e1f/6a1/195e1f6a1379554ca9025338301a78ed.png)\n",
    "\n",
    "__картинка взята из статьи [bigocheatsheet.com](http://bigocheatsheet.com/)__\n",
    "\n",
    "Условия бинарного дерева поиска:\n",
    "\n",
    "- Оба поддерева — левое и правое — являются двоичными деревьями поиска.\n",
    "- У всех узлов левого поддерева произвольного узла X значения ключей данных меньше, нежели значение ключа данных самого узла X.\n",
    "- У всех узлов правого поддерева произвольного узла X значения ключей данных больше либо равно, нежели значение ключа данных самого узла X.\n",
    "\n",
    "Статья на [wiki](https://ru.wikipedia.org/wiki/%D0%94%D0%B2%D0%BE%D0%B8%D1%87%D0%BD%D0%BE%D0%B5_%D0%B4%D0%B5%D1%80%D0%B5%D0%B2%D0%BE_%D0%BF%D0%BE%D0%B8%D1%81%D0%BA%D0%B0).\n",
    "\n",
    "#### Хэш таблицы\n",
    "\n",
    "Основная идея заключается в использовании некоторой хэш функции, которая возвращает некоторое число. Это число используется как индекс в массиве. Поэтому операция поиска принадлежности будет O(1). В случае коллизии хэш функции, то есть когда для разных элементов было вычислено одно и то же значение хэш функции, предусматривается некоторое специальное поведение. Например, можно по индексу хэш функции хранить не один элемент, а несколько. Если коллизий очень мало, то поиск принадлежности будет всё тот же O(1) + O(n), где n - количество элементов с одним хешем. Такой метод называется методом цепочек.\n",
    "\n",
    "Статья на [wiki](https://ru.wikipedia.org/wiki/%D0%A5%D0%B5%D1%88-%D1%82%D0%B0%D0%B1%D0%BB%D0%B8%D1%86%D0%B0)"
   ]
  },
  {
   "cell_type": "markdown",
   "metadata": {
    "id": "7Uz9_aLJIPzM"
   },
   "source": [
    "## Практика\n",
    "\n",
    "Можно сделать в функциональном, процедурном или ООП стиле.\n",
    "\n",
    "### Задание 3.1. Множество на основе хеш-таблицы\n",
    "\n",
    "Используйте массивы python как базовую структуру.\n",
    "Реализуйте какую-нибудь функцию хеширования: например, остаток от деления на N или [mur-mur](https://ru.wikipedia.org/wiki/Murmur2). Для начала, чтобы тестировать свой код, можете использовать функцию `hash`.\n",
    "\n",
    "Напишите бенчмарк(замер скорости выполнения) для базовых функций вашего множества."
   ]
  },
  {
   "cell_type": "code",
   "execution_count": 99,
   "metadata": {
    "executionInfo": {
     "elapsed": 316,
     "status": "ok",
     "timestamp": 1733317777823,
     "user": {
      "displayName": "tien san",
      "userId": "04520947246998281854"
     },
     "user_tz": -600
    },
    "id": "tY0-CK-MtvlM"
   },
   "outputs": [],
   "source": [
    "class Hash:\n",
    "    def __init__(self, size = 100):\n",
    "        self.size: int = size\n",
    "        self.table: List[List[int]] = [[] for _ in range(size)]\n",
    "\n",
    "    def hash(self, value):\n",
    "        return value % self.size\n",
    "\n",
    "    def add(self, value):\n",
    "      i = self.hash(value)\n",
    "      if value not in self.table[i]:\n",
    "          self.table[i].append(value)\n",
    "\n",
    "    def contain(self, value):\n",
    "        return value in self.table[self.hash(value)]\n",
    "\n",
    "    def union(self, other):\n",
    "        new = Hash(self.size)\n",
    "        for bucket in self.table:\n",
    "            for item in bucket:\n",
    "                new.add(item)\n",
    "        for bucket in other.table:\n",
    "            for item in bucket:\n",
    "                new.add(item)\n",
    "        return new\n",
    "\n",
    "    def intersection(self, other):\n",
    "        new = Hash(self.size)\n",
    "        for bucket in self.table:\n",
    "            for item in bucket:\n",
    "                if other.contain(item):\n",
    "                    new.add(item)\n",
    "        return new\n",
    "\n",
    "    def fromList(self, elements):\n",
    "        for i in elements:\n",
    "            self.add(i)\n",
    "\n",
    "    def __iter__(self):\n",
    "      for bucket in self.table:\n",
    "          for item in bucket:\n",
    "              yield item\n",
    "\n",
    "    def __len__(self):\n",
    "      sum = 0\n",
    "      for bucket in self.table:\n",
    "        sum += len(bucket)\n",
    "      return sum\n",
    "\n",
    "    def toList(self):\n",
    "      l = []\n",
    "      for item in self:\n",
    "        l.append(item)\n",
    "      return l"
   ]
  },
  {
   "cell_type": "code",
   "execution_count": 119,
   "metadata": {
    "colab": {
     "base_uri": "https://localhost:8080/"
    },
    "executionInfo": {
     "elapsed": 428,
     "status": "ok",
     "timestamp": 1733318287709,
     "user": {
      "displayName": "tien san",
      "userId": "04520947246998281854"
     },
     "user_tz": -600
    },
    "id": "yqQBoJfTIPzM",
    "outputId": "d758c50c-31b2-4d0e-bccd-70c2fe5b9908"
   },
   "outputs": [
    {
     "name": "stdout",
     "output_type": "stream",
     "text": [
      "add:  0.010123014450073242\n",
      "contain:  0.010781049728393555\n",
      "union:  0.01985025405883789\n",
      "intersection:  0.01991415023803711\n"
     ]
    }
   ],
   "source": [
    "import time\n",
    "\n",
    "def benchmark(hash):\n",
    "    start = time.time()\n",
    "    for i in range(10000):\n",
    "      hash.add(i)\n",
    "    stop = time.time()\n",
    "    print('add: ', stop - start)\n",
    "\n",
    "    start = time.time()\n",
    "    for i in range(10000):\n",
    "      hash.contain(i)\n",
    "    stop = time.time()\n",
    "    print('contain: ', stop - start)\n",
    "\n",
    "    hash1 = Hash()\n",
    "    hash1.fromList(range(0, 10000))\n",
    "    start = time.time()\n",
    "    union = hash.union(hash1)\n",
    "    stop = time.time()\n",
    "    print('union: ', stop - start)\n",
    "\n",
    "    start = time.time()\n",
    "    intersection = hash.intersection(hash1)\n",
    "    stop = time.time()\n",
    "    print('intersection: ', stop - start)\n",
    "\n",
    "a = Hash()\n",
    "benchmark(a)"
   ]
  },
  {
   "cell_type": "markdown",
   "metadata": {
    "id": "3lPA2YhaIPzM"
   },
   "source": [
    "### Задание 3.2. Множество на основе дерева\n",
    "\n",
    "Реализуйте множество на основе бинарного дерева поиска. Если вам понадобится массив, то используйте только ваш список из предыдущей практики.\n",
    "\n",
    "Напишите бенчмарк(замер скорости выполнения) для базовых функций вашего множества.\n",
    "\n",
    "Сравните скорость работы каждой реализации множества."
   ]
  },
  {
   "cell_type": "code",
   "execution_count": 120,
   "metadata": {
    "executionInfo": {
     "elapsed": 438,
     "status": "ok",
     "timestamp": 1733318300836,
     "user": {
      "displayName": "tien san",
      "userId": "04520947246998281854"
     },
     "user_tz": -600
    },
    "id": "ev5e8KMaIPzM"
   },
   "outputs": [],
   "source": [
    "class Node:\n",
    "    def __init__(self, value):\n",
    "        self.value = value\n",
    "        self.left = None\n",
    "        self.right = None\n",
    "\n",
    "class Tree:\n",
    "    def __init__(self):\n",
    "        self.root = None\n",
    "\n",
    "    def add(self, value):\n",
    "        if not self.root:\n",
    "            self.root = Node(value)\n",
    "            return\n",
    "\n",
    "        current = self.root\n",
    "        while current:\n",
    "\n",
    "            if value < current.value:\n",
    "                if current.left is None:\n",
    "                    current.left = Node(value)\n",
    "                    return\n",
    "                current = current.left\n",
    "\n",
    "            elif value > current.value:\n",
    "                if current.right is None:\n",
    "                    current.right = Node(value)\n",
    "                    return\n",
    "                current = current.right\n",
    "\n",
    "            else:\n",
    "                return\n",
    "\n",
    "    def contains(self, value: int) -> bool:\n",
    "        current = self.root\n",
    "\n",
    "        while current:\n",
    "\n",
    "            if value == current.value:\n",
    "                return True\n",
    "\n",
    "            elif value < current.value:\n",
    "                current = current.left\n",
    "\n",
    "            else:\n",
    "                current = current.right\n",
    "        return False\n",
    "\n",
    "    def union(self, other):\n",
    "        new = Tree()\n",
    "        for value in self:\n",
    "            new.add(value)\n",
    "\n",
    "        for value in other:\n",
    "            new.add(value)\n",
    "        return new\n",
    "\n",
    "    def intersection(self, other):\n",
    "        new = Tree()\n",
    "\n",
    "        for value in self:\n",
    "            if other.contains(value):\n",
    "                new.add(value)\n",
    "        return new\n",
    "\n",
    "    def __len__(self):\n",
    "      sum = 0\n",
    "      for i in self:\n",
    "        sum += 1\n",
    "      return sum\n",
    "\n",
    "    def fromList(self, elements):\n",
    "        for i in elements:\n",
    "            self.add(i)\n",
    "\n",
    "    def toList(self):\n",
    "      l = []\n",
    "      for item in self:\n",
    "        l.append(item)\n",
    "      return l"
   ]
  },
  {
   "cell_type": "code",
   "execution_count": 126,
   "metadata": {
    "colab": {
     "base_uri": "https://localhost:8080/"
    },
    "executionInfo": {
     "elapsed": 316,
     "status": "ok",
     "timestamp": 1733318535518,
     "user": {
      "displayName": "tien san",
      "userId": "04520947246998281854"
     },
     "user_tz": -600
    },
    "id": "X_2ekaSWAgmx",
    "outputId": "899b463e-9286-4138-d70b-b943d3b39e4f"
   },
   "outputs": [
    {
     "name": "stdout",
     "output_type": "stream",
     "text": [
      "add:  0.017821073532104492\n",
      "contain:  0.01751232147216797\n",
      "union:  0.03280520439147949\n",
      "intersection:  0.033284902572631836\n"
     ]
    }
   ],
   "source": [
    "import time\n",
    "\n",
    "def benchmark(hash):\n",
    "    start = time.time()\n",
    "    for i in range(10000):\n",
    "      hash.add(i)\n",
    "    stop = time.time()\n",
    "    print('add: ', stop - start)\n",
    "\n",
    "    start = time.time()\n",
    "    for i in range(10000):\n",
    "      hash.contain(i)\n",
    "    stop = time.time()\n",
    "    print('contain: ', stop - start)\n",
    "\n",
    "    hash1 = Hash()\n",
    "    hash1.fromList(range(0, 10000))\n",
    "    start = time.time()\n",
    "    union = hash.union(hash1)\n",
    "    stop = time.time()\n",
    "    print('union: ', stop - start)\n",
    "\n",
    "    start = time.time()\n",
    "    intersection = hash.intersection(hash1)\n",
    "    stop = time.time()\n",
    "    print('intersection: ', stop - start)\n",
    "\n",
    "a = Hash()\n",
    "benchmark(a)"
   ]
  },
  {
   "cell_type": "markdown",
   "metadata": {
    "id": "YIEVy0cLAz2J"
   },
   "source": [
    "хеш таблица быстрее чем дерево"
   ]
  },
  {
   "cell_type": "markdown",
   "metadata": {
    "id": "WU_CcqzVIPzN"
   },
   "source": [
    "# Задание 4. Матрицы\n",
    "\n",
    "Реализуйте класс матрица и набор важных функций:\n",
    "\n",
    "- сложение матриц\n",
    "- умножение матрицы на число\n",
    "- матричное произведение\n",
    "- поиск определителя\n",
    "- вычисление обратной матрицы\n",
    "- транспонирование матрицы\n",
    "\n",
    "Использовать numpy нельзя. Все матричные операции вам надо реализовать полностью самостоятельно.\n",
    "\n",
    "Класс Matrix должен следовать принципам Data Model: https://docs.python.org/3/reference/datamodel.html"
   ]
  },
  {
   "cell_type": "code",
   "execution_count": 2,
   "metadata": {
    "executionInfo": {
     "elapsed": 18,
     "status": "ok",
     "timestamp": 1733310543151,
     "user": {
      "displayName": "tien san",
      "userId": "04520947246998281854"
     },
     "user_tz": -600
    },
    "id": "sSh9sV2FIPzN"
   },
   "outputs": [],
   "source": [
    "from typing import List\n",
    "import copy\n",
    "\n",
    "class Matrix:\n",
    "    def __init__(self, rows, cols=None, data=None):\n",
    "        self.rows = rows\n",
    "        self.cols = cols or rows  # По умолчанию создаём квадратную матрицу\n",
    "        self.data = data or [[0 for _ in range(self.cols)] for _ in range(self.rows)]\n",
    "\n",
    "    def __repr__(self):\n",
    "        \"\"\"Представление матрицы в виде строки.\"\"\"\n",
    "        return f'Matrix({self.rows}, {self.cols}, {self.data})'\n",
    "\n",
    "    def __getitem__(self, index):\n",
    "        \"\"\"Доступ к элементам матрицы по индексу.\"\"\"\n",
    "        row_index, col_index = index\n",
    "        return self.data[row_index][col_index]\n",
    "\n",
    "    def __setitem__(self, index, value):\n",
    "        \"\"\"Установка значения элемента матрицы по индексу.\"\"\"\n",
    "        row_index, col_index = index\n",
    "        self.data[row_index][col_index] = value\n",
    "\n",
    "    def __add__(self, other):\n",
    "        \"\"\"Сложение двух матриц.\"\"\"\n",
    "        if not isinstance(other, Matrix) or (self.rows != other.rows or self.cols != other.cols):\n",
    "            raise ValueError(\"Матрицы должны иметь одинаковые размеры.\")\n",
    "\n",
    "        result = Matrix(self.rows, self.cols)\n",
    "        for i in range(self.rows):\n",
    "            for j in range(self.cols):\n",
    "                result[i, j] = self[i, j] + other[i, j]\n",
    "        return result\n",
    "\n",
    "    def __mul__(self, scalar):\n",
    "        \"\"\"Умножение матрицы на скаляр.\"\"\"\n",
    "        if not isinstance(scalar, (int, float)):\n",
    "            raise TypeError(\"Ожидается целое число или вещественное число.\")\n",
    "\n",
    "        result = Matrix(self.rows, self.cols)\n",
    "        for i in range(self.rows):\n",
    "            for j in range(self.cols):\n",
    "                result[i, j] = self[i, j] * scalar\n",
    "        return result\n",
    "\n",
    "    def __matmul__(self, other):\n",
    "        \"\"\"Матричное произведение двух матриц.\"\"\"\n",
    "        if not isinstance(other, Matrix) or self.cols != other.rows:\n",
    "            raise ValueError(\"Количество столбцов первой матрицы должно совпадать с количеством строк второй.\")\n",
    "\n",
    "        result = Matrix(self.rows, other.cols)\n",
    "        for i in range(self.rows):\n",
    "            for j in range(other.cols):\n",
    "                dot_product = 0\n",
    "                for k in range(self.cols):\n",
    "                    dot_product += self[i, k] * other[k, j]\n",
    "                result[i, j] = dot_product\n",
    "        return result\n",
    "\n",
    "    @staticmethod\n",
    "    def minor(matrix, i, j):\n",
    "        \"\"\"Вычисляет минор матрицы, исключив строку i и столбец j.\"\"\"\n",
    "        minor_matrix = []\n",
    "        for row in range(len(matrix)):\n",
    "            if row == i:\n",
    "                continue\n",
    "            minor_row = []\n",
    "            for col in range(len(matrix[0])):\n",
    "                if col == j:\n",
    "                    continue\n",
    "                minor_row.append(matrix[row][col])\n",
    "            minor_matrix.append(minor_row)\n",
    "        return minor_matrix\n",
    "\n",
    "    @staticmethod\n",
    "    def determinant(matrix):\n",
    "        \"\"\"Вычисляет определитель матрицы.\"\"\"\n",
    "        if len(matrix) == 1:\n",
    "            return matrix[0][0]\n",
    "        elif len(matrix) == 2:\n",
    "            return matrix[0][0] * matrix[1][1] - matrix[0][1] * matrix[1][0]\n",
    "        else:\n",
    "            det = 0\n",
    "            for col in range(len(matrix[0])):\n",
    "                cofactor = (-1)**col * matrix[0][col] * Matrix.determinant(Matrix.minor(matrix, 0, col))\n",
    "                det += cofactor\n",
    "            return det\n",
    "\n",
    "    def transpose(self):\n",
    "        \"\"\"Транспонирует матрицу.\"\"\"\n",
    "        transposed = Matrix(self.cols, self.rows)\n",
    "        for i in range(self.rows):\n",
    "            for j in range(self.cols):\n",
    "                transposed[j, i] = self[i, j]\n",
    "        return transposed\n",
    "\n",
    "    def inverse(self):\n",
    "        \"\"\"Вычисляет обратную матрицу.\"\"\"\n",
    "        if self.rows != self.cols:\n",
    "            raise ValueError(\"Только квадратные матрицы имеют обратную.\")\n",
    "\n",
    "        det = Matrix.determinant(self.data)\n",
    "        if det == 0:\n",
    "            raise ValueError(\"Определитель равен нулю, обратная матрица не существует.\")\n",
    "\n",
    "        if self.rows == 2:\n",
    "            inv_det = 1 / det\n",
    "            a, b, c, d = self[0, 0], self[0, 1], self[1, 0], self[1, 1]\n",
    "            inverse = Matrix(2, 2, [\n",
    "                [d * inv_det, -b * inv_det],\n",
    "                [-c * inv_det, a * inv_det]\n",
    "            ])\n",
    "            return inverse\n",
    "\n",
    "        cofactors = []\n",
    "        for i in range(self.rows):\n",
    "            cofactor_row = []\n",
    "            for j in range(self.cols):\n",
    "                minor_ij = Matrix.minor(self.data, i, j)\n",
    "                cofactor = (-1)**(i+j) * Matrix.determinant(minor_ij)\n",
    "                cofactor_row.append(cofactor)\n",
    "            cofactors.append(cofactor_row)\n",
    "\n",
    "        adjugate = Matrix(self.rows, self.cols, cofactors).transpose()\n",
    "        inverse = adjugate * (1 / det)\n",
    "        return inverse"
   ]
  },
  {
   "cell_type": "code",
   "execution_count": 3,
   "metadata": {
    "executionInfo": {
     "elapsed": 17,
     "status": "ok",
     "timestamp": 1733310543151,
     "user": {
      "displayName": "tien san",
      "userId": "04520947246998281854"
     },
     "user_tz": -600
    },
    "id": "REIQC8doS96S"
   },
   "outputs": [
    {
     "name": "stdout",
     "output_type": "stream",
     "text": [
      "Matrix(2, 2, [[6, 8], [10, 12]])\n",
      "Matrix(2, 2, [[10, 12], [14, 16]])\n",
      "Matrix(2, 2, [[22, 28], [49, 64]])\n",
      "-2\n",
      "Matrix(2, 2, [[-2.0, 1.0], [1.5, -0.5]])\n",
      "Matrix(2, 2, [[1, 3], [2, 4]])\n"
     ]
    }
   ],
   "source": [
    "# Создание матриц\n",
    "A = Matrix(2, 2, [[1, 2], [3, 4]])\n",
    "B = Matrix(2, 2, [[5, 6], [7, 8]])\n",
    "C = Matrix(2, 3, [[1, 2, 3], [4, 5, 6]])\n",
    "D = Matrix(3, 2, [[1, 2], [3, 4], [5, 6]])\n",
    "\n",
    "# Сложение матриц\n",
    "print(A + B)\n",
    "\n",
    "# Умножение матрицы на число\n",
    "print(B * 2)\n",
    "\n",
    "\n",
    "# Матричное произведение\n",
    "print(C @ D)\n",
    "\n",
    "\n",
    "# Определитель\n",
    "print(Matrix.determinant([[1, 2], [3, 4]]))\n",
    "# -2\n",
    "\n",
    "# Обратная матрица\n",
    "inv_A = A.inverse()\n",
    "print(inv_A)\n",
    "\n",
    "\n",
    "# Транспонирование\n",
    "print(A.transpose())\n"
   ]
  },
  {
   "cell_type": "markdown",
   "metadata": {
    "id": "d9eCMpYiIPzN"
   },
   "source": [
    "# Список.\n",
    "\n",
    "## Теория\n",
    "\n",
    "Мы пойдем весьма необычным путём. В этом задании вы будете реализовывать последовательность(связный список) с помощью рекурсии и базового элемента `tuple`. Это отличается от классического связного списка, основанного на структуре и указателе `next`, когда обход бы делался с помощью `for`, пока не встретился бы _null pointer_.\n",
    "\n",
    "Немного теории. Допустим у нас есть связная последовательность чисел ![](https://senior-sigan.ml/fcs-programming-technology/assets/linked_list.png)\n",
    "\n",
    "Её можно представить в виде последовательности вложенных друг в друга пар: `seq=(1, (2, (3, 4)))`. Тогда чтобы взять последний элемент списка нужно сделать `seq[1][1][1]`. Или если создать специальную вспомогательную функцию `tail`: `tail(tail(tail(seq)))`, что немного математичнее.\n",
    "\n",
    "> Использовать цикл `for`, `while` **запрещено**. Только рекурсия, только хардкор.\n",
    "\n",
    "Можно использовать классы и переопределять операторы, но не обязательно. Как делать классы можно прочитать [тут](https://learnxinyminutes.com/docs/ru-ru/python3-ru/) или в официальной [документации](https://docs.python.org/3/tutorial/classes.html).\n",
    "\n",
    "_Комментарий:_ ваш список должен уметь быть пустым, чтобы его длина была 0. Это потребуется в следующем задании.\n",
    "\n",
    "Далее список задач и примеры функций. Если вы делаете в ООП стиле, то придумайте методы самостоятельно, главное чтобы идея была такая же.\n",
    "\n",
    "### Рекурсивно связная последовательность. Easy.\n",
    "\n",
    "- взятие элемента по индексу `at(seq(1,2,3), 1) == 2`\n",
    "- вычисление длины последовательности `size(seq(1,2)) == 2`\n",
    "- сравнение массивов `eq(seq(1,2), seq(1,2)) == Treu`, `eq(seq(1,2,3), seq(1,2)) == False`\n",
    "\n",
    "### Функции над рекурсивно связаной последовательностью. Moderate.\n",
    "\n",
    "- взятие хвоста последовательности, пропустив N значений, `eq(tail(seq(1,2,3,4), 2), seq(3,4)) == True`\n",
    "- соединение двух списков `eq(concat(seq(1,2), seq(3,4)), seq(1,2,3,4)) == True`\n",
    "- функция `for_each` для обхода списка `for_each(seq(1,2,3,4), lambda x: print(x))`\n",
    "- функция `for_each_indexed` для обхода списка с индексом `for_each(seq(1,2,3,4), lambda i, x: print(i, x))`\n",
    "\n",
    "### Трансформаторы, фильтры, свёртки рекурсивных списков. Hard.\n",
    "\n",
    "- функция преобразования `map`: `map(seq(1,2,3,4), lambda x: x**2) == seq(1,4,9,16)`\n",
    "- функция фильтрации `filter`: `filter(seq(1,2,3,4),lambda x: x%2==1) == seq(1,3)`\n",
    "- функция редуцирования `reduce`: `reduce(s=seq(1,2,3,4), init_value=0, func=lambda acc, cur: acc+cur) == 0+1+2+3+4==10`\n",
    "- на основе функции редуцирования сделать функцию конвертации последовательности в python list `list(seq(1,2,3,4)) == [1,2,3,4]`\n",
    "\n",
    "### Дополнительное задание, если интересно:\n",
    "\n",
    "- на основе функции редуцирования сделать функцию flat_map, которая превращает последовательность последовательностей в последовательность. `flat_map(seq(1,2,3), lambda x: seq(x, x + 10)) == seq(1, 11, 2, 12, 3, 13)`"
   ]
  },
  {
   "cell_type": "code",
   "execution_count": 22,
   "metadata": {
    "colab": {
     "base_uri": "https://localhost:8080/"
    },
    "executionInfo": {
     "elapsed": 8,
     "status": "ok",
     "timestamp": 1733310543555,
     "user": {
      "displayName": "tien san",
      "userId": "04520947246998281854"
     },
     "user_tz": -600
    },
    "id": "0dyvQ8VXIPzN",
    "outputId": "20656c45-e048-4ad7-d5a8-f6f0add6cadb"
   },
   "outputs": [
    {
     "data": {
      "text/plain": [
       "True"
      ]
     },
     "execution_count": 22,
     "metadata": {},
     "output_type": "execute_result"
    }
   ],
   "source": [
    "# Воспользуйтесь этим начальным кодом, чтобы реализовать нужный процедуры\n",
    "\n",
    "def head(pair):\n",
    "    if pair is None:\n",
    "        return None\n",
    "    return pair[0]\n",
    "\n",
    "def tail(pair):\n",
    "    if pair is None:\n",
    "        return None\n",
    "    if len(pair) < 2:\n",
    "        return None\n",
    "    return pair[1]\n",
    "\n",
    "def Seq(*elements):\n",
    "    def first(x):\n",
    "        return x[0]\n",
    "    def other(x):\n",
    "        return x[1:]\n",
    "\n",
    "    if len(elements) == 0:\n",
    "        return None\n",
    "\n",
    "    if len(elements) == 1:\n",
    "        return first(elements), None\n",
    "\n",
    "    if len(elements) == 2:\n",
    "        return first(elements), other(elements)\n",
    "\n",
    "    return first(elements), Seq(*other(elements))\n",
    "\n",
    "s = Seq(1,2,3,4,5)\n",
    "s == (1, (2, (3, (4, (5,)))))\n",
    "head(s) == 1\n",
    "tail(s) == (2, (3, (4, (5,))))"
   ]
  },
  {
   "cell_type": "code",
   "execution_count": 23,
   "metadata": {
    "colab": {
     "base_uri": "https://localhost:8080/"
    },
    "executionInfo": {
     "elapsed": 6,
     "status": "ok",
     "timestamp": 1733310543555,
     "user": {
      "displayName": "tien san",
      "userId": "04520947246998281854"
     },
     "user_tz": -600
    },
    "id": "ip7zPtQAIPzO",
    "outputId": "df350c76-b5a8-46d0-c8d7-db1151043878"
   },
   "outputs": [
    {
     "data": {
      "text/plain": [
       "True"
      ]
     },
     "execution_count": 23,
     "metadata": {},
     "output_type": "execute_result"
    }
   ],
   "source": [
    "def at(seq, index):\n",
    "  if index == 0:\n",
    "      return head(seq)\n",
    "  return at(tail(seq), index - 1)\n",
    "at(Seq(1,2,3), 1) == 2"
   ]
  },
  {
   "cell_type": "code",
   "execution_count": 60,
   "metadata": {
    "colab": {
     "base_uri": "https://localhost:8080/"
    },
    "executionInfo": {
     "elapsed": 302,
     "status": "ok",
     "timestamp": 1733316099676,
     "user": {
      "displayName": "tien san",
      "userId": "04520947246998281854"
     },
     "user_tz": -600
    },
    "id": "sr8WSImNtfY4",
    "outputId": "0536b94b-af32-470e-ffb3-89df82e75588"
   },
   "outputs": [
    {
     "data": {
      "text/plain": [
       "True"
      ]
     },
     "execution_count": 60,
     "metadata": {},
     "output_type": "execute_result"
    }
   ],
   "source": [
    "def size(seq):\n",
    "  if seq is None:\n",
    "    return 0\n",
    "  return 1 + size(tail(seq))\n",
    "size(Seq(1,2)) == 2"
   ]
  },
  {
   "cell_type": "code",
   "execution_count": 25,
   "metadata": {
    "colab": {
     "base_uri": "https://localhost:8080/"
    },
    "executionInfo": {
     "elapsed": 362,
     "status": "ok",
     "timestamp": 1733310543913,
     "user": {
      "displayName": "tien san",
      "userId": "04520947246998281854"
     },
     "user_tz": -600
    },
    "id": "ee0a0B9-tpbA",
    "outputId": "9126d6a4-51ff-4251-f886-be1fc056c9fb"
   },
   "outputs": [
    {
     "data": {
      "text/plain": [
       "True"
      ]
     },
     "execution_count": 25,
     "metadata": {},
     "output_type": "execute_result"
    }
   ],
   "source": [
    "def eq(seq1, seq2):\n",
    "  if seq1 is None and seq2 is None:\n",
    "      return True\n",
    "  if (seq1 is None) and (seq2 is None):\n",
    "      return False\n",
    "  return head(seq1) == head(seq2) and eq(tail(seq1), tail(seq2))\n",
    "\n",
    "eq(Seq(1,2), Seq(1,2))"
   ]
  },
  {
   "cell_type": "code",
   "execution_count": 26,
   "metadata": {
    "colab": {
     "base_uri": "https://localhost:8080/"
    },
    "executionInfo": {
     "elapsed": 11,
     "status": "ok",
     "timestamp": 1733310543913,
     "user": {
      "displayName": "tien san",
      "userId": "04520947246998281854"
     },
     "user_tz": -600
    },
    "id": "yEB4z5GIv9CV",
    "outputId": "0b8831a9-9a3c-4a6f-e9b1-917a7e62d66c"
   },
   "outputs": [
    {
     "data": {
      "text/plain": [
       "False"
      ]
     },
     "execution_count": 26,
     "metadata": {},
     "output_type": "execute_result"
    }
   ],
   "source": [
    "eq(Seq(1,2,3), Seq(1,2))\n"
   ]
  },
  {
   "cell_type": "code",
   "execution_count": 27,
   "metadata": {
    "colab": {
     "base_uri": "https://localhost:8080/"
    },
    "executionInfo": {
     "elapsed": 11,
     "status": "ok",
     "timestamp": 1733310543914,
     "user": {
      "displayName": "tien san",
      "userId": "04520947246998281854"
     },
     "user_tz": -600
    },
    "id": "Eu4_gWx_wkKV",
    "outputId": "377c30a5-a5fd-42d2-8125-165ace0bb640"
   },
   "outputs": [
    {
     "data": {
      "text/plain": [
       "True"
      ]
     },
     "execution_count": 27,
     "metadata": {},
     "output_type": "execute_result"
    }
   ],
   "source": [
    "def tailN(seq, n):\n",
    "  if n == 0 or seq is None:\n",
    "      return seq\n",
    "  return tailN(tail(seq), n - 1)\n",
    "eq(tailN(Seq(1,2,3,4), 2), Seq(3,4))"
   ]
  },
  {
   "cell_type": "code",
   "execution_count": 28,
   "metadata": {
    "colab": {
     "base_uri": "https://localhost:8080/"
    },
    "executionInfo": {
     "elapsed": 10,
     "status": "ok",
     "timestamp": 1733310543914,
     "user": {
      "displayName": "tien san",
      "userId": "04520947246998281854"
     },
     "user_tz": -600
    },
    "id": "uS5W0psQygpX",
    "outputId": "12bfb551-2495-44ec-b614-d7557d6e3f4c"
   },
   "outputs": [
    {
     "data": {
      "text/plain": [
       "(1, (2, (3, (4,))))"
      ]
     },
     "execution_count": 28,
     "metadata": {},
     "output_type": "execute_result"
    }
   ],
   "source": [
    "def concat(seq1, seq2):\n",
    "  if seq1 is None:\n",
    "      return seq2\n",
    "  return head(seq1), concat(tail(seq1), seq2)\n",
    "concat(Seq(1, 2), Seq(3, 4))"
   ]
  },
  {
   "cell_type": "code",
   "execution_count": 29,
   "metadata": {
    "colab": {
     "base_uri": "https://localhost:8080/"
    },
    "executionInfo": {
     "elapsed": 8,
     "status": "ok",
     "timestamp": 1733310543914,
     "user": {
      "displayName": "tien san",
      "userId": "04520947246998281854"
     },
     "user_tz": -600
    },
    "id": "hDA9ydSa01Nz",
    "outputId": "b7c5f0a5-c913-4c87-b67a-eb812a95e2b3"
   },
   "outputs": [
    {
     "name": "stdout",
     "output_type": "stream",
     "text": [
      "1\n",
      "2\n",
      "3\n",
      "4\n"
     ]
    }
   ],
   "source": [
    "def for_each(seq, func):\n",
    "  if seq is not None:\n",
    "      func(head(seq))\n",
    "      for_each(tail(seq), func)\n",
    "\n",
    "for_each(Seq(1,2,3,4), lambda x: print(x))"
   ]
  },
  {
   "cell_type": "code",
   "execution_count": 30,
   "metadata": {
    "colab": {
     "base_uri": "https://localhost:8080/"
    },
    "executionInfo": {
     "elapsed": 7,
     "status": "ok",
     "timestamp": 1733310543914,
     "user": {
      "displayName": "tien san",
      "userId": "04520947246998281854"
     },
     "user_tz": -600
    },
    "id": "iKRrsD851Nzd",
    "outputId": "948c86c7-39e0-40a1-b5f0-8aae328d5ffa"
   },
   "outputs": [
    {
     "name": "stdout",
     "output_type": "stream",
     "text": [
      "0 1\n",
      "1 2\n",
      "2 3\n",
      "3 4\n"
     ]
    }
   ],
   "source": [
    "def for_each_indexed(seq, func, index=0):\n",
    "    if seq is not None:\n",
    "        func(index, head(seq))\n",
    "        for_each_indexed(tail(seq), func, index + 1)\n",
    "\n",
    "for_each_indexed(Seq(1,2,3,4), lambda i, x: print(i, x))"
   ]
  },
  {
   "cell_type": "code",
   "execution_count": 85,
   "metadata": {
    "colab": {
     "base_uri": "https://localhost:8080/"
    },
    "executionInfo": {
     "elapsed": 306,
     "status": "ok",
     "timestamp": 1733316884049,
     "user": {
      "displayName": "tien san",
      "userId": "04520947246998281854"
     },
     "user_tz": -600
    },
    "id": "0Axd_XqE1rB2",
    "outputId": "d7f60096-a9ec-4096-97dc-63c926bc33a5"
   },
   "outputs": [
    {
     "data": {
      "text/plain": [
       "True"
      ]
     },
     "execution_count": 85,
     "metadata": {},
     "output_type": "execute_result"
    }
   ],
   "source": [
    "def map(seq, func):\n",
    "  if tail(seq) is None:\n",
    "      return (func(head(seq)),)\n",
    "  return func(head(seq)), map(tail(seq), func)\n",
    "\n",
    "\n",
    "map(Seq(1,2,3,4), lambda x: x**2) == Seq(1,4,9,16)"
   ]
  },
  {
   "cell_type": "code",
   "execution_count": 80,
   "metadata": {
    "colab": {
     "base_uri": "https://localhost:8080/"
    },
    "executionInfo": {
     "elapsed": 304,
     "status": "ok",
     "timestamp": 1733316832226,
     "user": {
      "displayName": "tien san",
      "userId": "04520947246998281854"
     },
     "user_tz": -600
    },
    "id": "sUbe8BD-74w6",
    "outputId": "3299cf91-3d28-4180-b72d-76f3b931ed07"
   },
   "outputs": [
    {
     "data": {
      "text/plain": [
       "True"
      ]
     },
     "execution_count": 80,
     "metadata": {},
     "output_type": "execute_result"
    }
   ],
   "source": [
    "def filter(seq, predicate):\n",
    "    if tail(seq) is None:\n",
    "        return None\n",
    "    if predicate(head(seq)) :\n",
    "      a = head(seq), filter(tail(seq), predicate)\n",
    "      if a[1] is not None:\n",
    "        return a\n",
    "      else:\n",
    "        return (a[0],)\n",
    "\n",
    "    return filter(tail(seq), predicate)\n",
    "filter(Seq(1,2,3,4),lambda x: x%2==1) == Seq(1,3)"
   ]
  },
  {
   "cell_type": "code",
   "execution_count": 87,
   "metadata": {
    "colab": {
     "base_uri": "https://localhost:8080/"
    },
    "executionInfo": {
     "elapsed": 443,
     "status": "ok",
     "timestamp": 1733317030633,
     "user": {
      "displayName": "tien san",
      "userId": "04520947246998281854"
     },
     "user_tz": -600
    },
    "id": "_i-GVtqI75w7",
    "outputId": "19f8f9b7-0e26-44d1-df11-63bf3ce4fc97"
   },
   "outputs": [
    {
     "data": {
      "text/plain": [
       "True"
      ]
     },
     "execution_count": 87,
     "metadata": {},
     "output_type": "execute_result"
    }
   ],
   "source": [
    "def reduce(s, value, func):\n",
    "    if s is None:\n",
    "        return value\n",
    "    return reduce(tail(s), func(value, head(s)), func)\n",
    "reduce(Seq(1,2,3,4), 0, lambda acc, cur: acc+cur) == 0+1+2+3+4==10"
   ]
  },
  {
   "cell_type": "code",
   "execution_count": 34,
   "metadata": {
    "colab": {
     "base_uri": "https://localhost:8080/"
    },
    "executionInfo": {
     "elapsed": 6,
     "status": "ok",
     "timestamp": 1733310544284,
     "user": {
      "displayName": "tien san",
      "userId": "04520947246998281854"
     },
     "user_tz": -600
    },
    "id": "U_sqbtLf77Bs",
    "outputId": "22992a53-b162-4355-f104-cd883c4c4024"
   },
   "outputs": [
    {
     "data": {
      "text/plain": [
       "True"
      ]
     },
     "execution_count": 34,
     "metadata": {},
     "output_type": "execute_result"
    }
   ],
   "source": [
    "def list(seq):\n",
    "    return reduce(seq, [], lambda acc, cur: acc + [cur])\n",
    "list(Seq(1,2,3,4)) == [1,2,3,4]"
   ]
  },
  {
   "cell_type": "code",
   "execution_count": 98,
   "metadata": {
    "colab": {
     "base_uri": "https://localhost:8080/"
    },
    "executionInfo": {
     "elapsed": 314,
     "status": "ok",
     "timestamp": 1733317366059,
     "user": {
      "displayName": "tien san",
      "userId": "04520947246998281854"
     },
     "user_tz": -600
    },
    "id": "ts3L8S4877rk",
    "outputId": "646b7edf-f6a5-4eac-ea79-31096478c6a2"
   },
   "outputs": [
    {
     "data": {
      "text/plain": [
       "True"
      ]
     },
     "execution_count": 98,
     "metadata": {},
     "output_type": "execute_result"
    }
   ],
   "source": [
    "def flat_map(seq, func):\n",
    "    if seq is None:\n",
    "        return None\n",
    "    a = flat_map(tail(seq), func)\n",
    "    if a is None:\n",
    "        return func(head(seq))\n",
    "    else:\n",
    "      return concat(func(head(seq)), a)\n",
    "flat_map(Seq(1,2,3), lambda x: Seq(x, x + 10)) == Seq(1, 11, 2, 12, 3, 13)"
   ]
  }
 ],
 "metadata": {
  "colab": {
   "provenance": []
  },
  "kernelspec": {
   "display_name": "Python 3",
   "language": "python",
   "name": "python3"
  },
  "language_info": {
   "codemirror_mode": {
    "name": "ipython",
    "version": 3
   },
   "file_extension": ".py",
   "mimetype": "text/x-python",
   "name": "python",
   "nbconvert_exporter": "python",
   "pygments_lexer": "ipython3",
   "version": "3.10.6"
  },
  "widgets": {
   "application/vnd.jupyter.widget-state+json": {
    "16ce3ff11d4a481ea7b1b988d8e31f2c": {
     "model_module": "@jupyter-widgets/controls",
     "model_module_version": "1.5.0",
     "model_name": "TextModel",
     "state": {
      "_dom_classes": [],
      "_model_module": "@jupyter-widgets/controls",
      "_model_module_version": "1.5.0",
      "_model_name": "TextModel",
      "_view_count": null,
      "_view_module": "@jupyter-widgets/controls",
      "_view_module_version": "1.5.0",
      "_view_name": "TextView",
      "continuous_update": true,
      "description": "",
      "description_tooltip": null,
      "disabled": false,
      "layout": "IPY_MODEL_cf58ddade00b4bdca67bd2231e6dc4e4",
      "placeholder": "тут текст",
      "style": "IPY_MODEL_80d05574cdfb40eb8f147f5e331599f9",
      "value": ""
     }
    },
    "80d05574cdfb40eb8f147f5e331599f9": {
     "model_module": "@jupyter-widgets/controls",
     "model_module_version": "1.5.0",
     "model_name": "DescriptionStyleModel",
     "state": {
      "_model_module": "@jupyter-widgets/controls",
      "_model_module_version": "1.5.0",
      "_model_name": "DescriptionStyleModel",
      "_view_count": null,
      "_view_module": "@jupyter-widgets/base",
      "_view_module_version": "1.2.0",
      "_view_name": "StyleView",
      "description_width": ""
     }
    },
    "cf58ddade00b4bdca67bd2231e6dc4e4": {
     "model_module": "@jupyter-widgets/base",
     "model_module_version": "1.2.0",
     "model_name": "LayoutModel",
     "state": {
      "_model_module": "@jupyter-widgets/base",
      "_model_module_version": "1.2.0",
      "_model_name": "LayoutModel",
      "_view_count": null,
      "_view_module": "@jupyter-widgets/base",
      "_view_module_version": "1.2.0",
      "_view_name": "LayoutView",
      "align_content": null,
      "align_items": null,
      "align_self": null,
      "border": null,
      "bottom": null,
      "display": null,
      "flex": null,
      "flex_flow": null,
      "grid_area": null,
      "grid_auto_columns": null,
      "grid_auto_flow": null,
      "grid_auto_rows": null,
      "grid_column": null,
      "grid_gap": null,
      "grid_row": null,
      "grid_template_areas": null,
      "grid_template_columns": null,
      "grid_template_rows": null,
      "height": null,
      "justify_content": null,
      "justify_items": null,
      "left": null,
      "margin": null,
      "max_height": null,
      "max_width": null,
      "min_height": null,
      "min_width": null,
      "object_fit": null,
      "object_position": null,
      "order": null,
      "overflow": null,
      "overflow_x": null,
      "overflow_y": null,
      "padding": null,
      "right": null,
      "top": null,
      "visibility": null,
      "width": null
     }
    }
   }
  }
 },
 "nbformat": 4,
 "nbformat_minor": 0
}
