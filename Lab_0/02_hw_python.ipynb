{
 "cells": [
  {
   "cell_type": "markdown",
   "metadata": {
    "id": "OG47uuSFIPzH"
   },
   "source": [
    "# Homework Python 3\n",
    "\n",
    "С базовыми фичами языка можно ознакомиться [в теории](01_tt_python.md).\n",
    "\n",
    "Для закрепления знаний, решите следующие задачи."
   ]
  },
  {
   "cell_type": "markdown",
   "metadata": {
    "id": "FHDnL8MUIPzI"
   },
   "source": [
    "# Задание 1. Word Count\n",
    "\n",
    "Посчитать сколько раз каждое слово повторялось в тексте. Вывести 10 самых частых слов отсортированных по частоте. Игнорировать однобуквенные слова и пунктуацию. Слова в предложении - это наборы символов отделенные друг от друга пробельными символами (пробел, табуляция, новая строка).\n",
    "\n",
    "**Hint**: вам понадобится `dict` и метод `get(key)`, который возвращает `None`, если значения отсутсвует.\n",
    "\n",
    "**Advanced**: Нарисуйте bar-plot график количества слов в предложении. (Используйте библиотеку seaborn)"
   ]
  },
  {
   "cell_type": "code",
   "execution_count": 6,
   "metadata": {
    "colab": {
     "base_uri": "https://localhost:8080/",
     "height": 430
    },
    "executionInfo": {
     "elapsed": 5574,
     "status": "ok",
     "timestamp": 1733310542089,
     "user": {
      "displayName": "tien san",
      "userId": "04520947246998281854"
     },
     "user_tz": -600
    },
    "id": "2BbErB_8IPzJ",
    "outputId": "a88e1428-ea13-4219-9eb2-a2fdddea3602"
   },
   "outputs": [
    {
     "name": "stderr",
     "output_type": "stream",
     "text": [
      "\n",
      "A module that was compiled using NumPy 1.x cannot be run in\n",
      "NumPy 2.0.2 as it may crash. To support both 1.x and 2.x\n",
      "versions of NumPy, modules must be compiled with NumPy 2.0.\n",
      "Some module may need to rebuild instead e.g. with 'pybind11>=2.12'.\n",
      "\n",
      "If you are a user of the module, the easiest solution will be to\n",
      "downgrade to 'numpy<2' or try to upgrade the affected module.\n",
      "We expect that some modules will need time to support NumPy 2.\n",
      "\n",
      "Traceback (most recent call last):  File \"c:\\Python\\lib\\runpy.py\", line 196, in _run_module_as_main\n",
      "    return _run_code(code, main_globals, None,\n",
      "  File \"c:\\Python\\lib\\runpy.py\", line 86, in _run_code\n",
      "    exec(code, run_globals)\n",
      "  File \"C:\\Users\\Wlad\\AppData\\Roaming\\Python\\Python310\\site-packages\\ipykernel_launcher.py\", line 18, in <module>\n",
      "    app.launch_new_instance()\n",
      "  File \"C:\\Users\\Wlad\\AppData\\Roaming\\Python\\Python310\\site-packages\\traitlets\\config\\application.py\", line 1075, in launch_instance\n",
      "    app.start()\n",
      "  File \"C:\\Users\\Wlad\\AppData\\Roaming\\Python\\Python310\\site-packages\\ipykernel\\kernelapp.py\", line 739, in start\n",
      "    self.io_loop.start()\n",
      "  File \"C:\\Users\\Wlad\\AppData\\Roaming\\Python\\Python310\\site-packages\\tornado\\platform\\asyncio.py\", line 205, in start\n",
      "    self.asyncio_loop.run_forever()\n",
      "  File \"c:\\Python\\lib\\asyncio\\base_events.py\", line 600, in run_forever\n",
      "    self._run_once()\n",
      "  File \"c:\\Python\\lib\\asyncio\\base_events.py\", line 1896, in _run_once\n",
      "    handle._run()\n",
      "  File \"c:\\Python\\lib\\asyncio\\events.py\", line 80, in _run\n",
      "    self._context.run(self._callback, *self._args)\n",
      "  File \"C:\\Users\\Wlad\\AppData\\Roaming\\Python\\Python310\\site-packages\\ipykernel\\kernelbase.py\", line 542, in dispatch_queue\n",
      "    await self.process_one()\n",
      "  File \"C:\\Users\\Wlad\\AppData\\Roaming\\Python\\Python310\\site-packages\\ipykernel\\kernelbase.py\", line 531, in process_one\n",
      "    await dispatch(*args)\n",
      "  File \"C:\\Users\\Wlad\\AppData\\Roaming\\Python\\Python310\\site-packages\\ipykernel\\kernelbase.py\", line 437, in dispatch_shell\n",
      "    await result\n",
      "  File \"C:\\Users\\Wlad\\AppData\\Roaming\\Python\\Python310\\site-packages\\ipykernel\\ipkernel.py\", line 359, in execute_request\n",
      "    await super().execute_request(stream, ident, parent)\n",
      "  File \"C:\\Users\\Wlad\\AppData\\Roaming\\Python\\Python310\\site-packages\\ipykernel\\kernelbase.py\", line 775, in execute_request\n",
      "    reply_content = await reply_content\n",
      "  File \"C:\\Users\\Wlad\\AppData\\Roaming\\Python\\Python310\\site-packages\\ipykernel\\ipkernel.py\", line 446, in do_execute\n",
      "    res = shell.run_cell(\n",
      "  File \"C:\\Users\\Wlad\\AppData\\Roaming\\Python\\Python310\\site-packages\\ipykernel\\zmqshell.py\", line 549, in run_cell\n",
      "    return super().run_cell(*args, **kwargs)\n",
      "  File \"C:\\Users\\Wlad\\AppData\\Roaming\\Python\\Python310\\site-packages\\IPython\\core\\interactiveshell.py\", line 3051, in run_cell\n",
      "    result = self._run_cell(\n",
      "  File \"C:\\Users\\Wlad\\AppData\\Roaming\\Python\\Python310\\site-packages\\IPython\\core\\interactiveshell.py\", line 3106, in _run_cell\n",
      "    result = runner(coro)\n",
      "  File \"C:\\Users\\Wlad\\AppData\\Roaming\\Python\\Python310\\site-packages\\IPython\\core\\async_helpers.py\", line 129, in _pseudo_sync_runner\n",
      "    coro.send(None)\n",
      "  File \"C:\\Users\\Wlad\\AppData\\Roaming\\Python\\Python310\\site-packages\\IPython\\core\\interactiveshell.py\", line 3311, in run_cell_async\n",
      "    has_raised = await self.run_ast_nodes(code_ast.body, cell_name,\n",
      "  File \"C:\\Users\\Wlad\\AppData\\Roaming\\Python\\Python310\\site-packages\\IPython\\core\\interactiveshell.py\", line 3493, in run_ast_nodes\n",
      "    if await self.run_code(code, result, async_=asy):\n",
      "  File \"C:\\Users\\Wlad\\AppData\\Roaming\\Python\\Python310\\site-packages\\IPython\\core\\interactiveshell.py\", line 3553, in run_code\n",
      "    exec(code_obj, self.user_global_ns, self.user_ns)\n",
      "  File \"C:\\Users\\Wlad\\AppData\\Local\\Temp\\ipykernel_16548\\2208543633.py\", line 1, in <module>\n",
      "    import seaborn as sns\n",
      "  File \"c:\\Python\\lib\\site-packages\\seaborn\\__init__.py\", line 2, in <module>\n",
      "    from .rcmod import *  # noqa: F401,F403\n",
      "  File \"c:\\Python\\lib\\site-packages\\seaborn\\rcmod.py\", line 3, in <module>\n",
      "    import matplotlib as mpl\n",
      "  File \"c:\\Python\\lib\\site-packages\\matplotlib\\__init__.py\", line 148, in <module>\n",
      "    from . import _api, _version, cbook, _docstring, rcsetup\n",
      "  File \"c:\\Python\\lib\\site-packages\\matplotlib\\rcsetup.py\", line 27, in <module>\n",
      "    from matplotlib.colors import Colormap, is_color_like\n",
      "  File \"c:\\Python\\lib\\site-packages\\matplotlib\\colors.py\", line 56, in <module>\n",
      "    from matplotlib import _api, _cm, cbook, scale\n",
      "  File \"c:\\Python\\lib\\site-packages\\matplotlib\\scale.py\", line 22, in <module>\n",
      "    from matplotlib.ticker import (\n",
      "  File \"c:\\Python\\lib\\site-packages\\matplotlib\\ticker.py\", line 138, in <module>\n",
      "    from matplotlib import transforms as mtransforms\n",
      "  File \"c:\\Python\\lib\\site-packages\\matplotlib\\transforms.py\", line 49, in <module>\n",
      "    from matplotlib._path import (\n"
     ]
    },
    {
     "ename": "AttributeError",
     "evalue": "_ARRAY_API not found",
     "output_type": "error",
     "traceback": [
      "\u001b[1;31m---------------------------------------------------------------------------\u001b[0m",
      "\u001b[1;31mAttributeError\u001b[0m                            Traceback (most recent call last)",
      "\u001b[1;31mAttributeError\u001b[0m: _ARRAY_API not found"
     ]
    },
    {
     "ename": "ImportError",
     "evalue": "numpy.core.multiarray failed to import",
     "output_type": "error",
     "traceback": [
      "\u001b[1;31m---------------------------------------------------------------------------\u001b[0m",
      "\u001b[1;31mImportError\u001b[0m                               Traceback (most recent call last)",
      "Cell \u001b[1;32mIn[6], line 1\u001b[0m\n\u001b[1;32m----> 1\u001b[0m \u001b[38;5;28;01mimport\u001b[39;00m \u001b[38;5;21;01mseaborn\u001b[39;00m \u001b[38;5;28;01mas\u001b[39;00m \u001b[38;5;21;01msns\u001b[39;00m\n\u001b[0;32m      2\u001b[0m \u001b[38;5;28;01mimport\u001b[39;00m \u001b[38;5;21;01mre\u001b[39;00m\n\u001b[0;32m      4\u001b[0m \u001b[38;5;28;01mdef\u001b[39;00m \u001b[38;5;21mword_count\u001b[39m(text):\n",
      "File \u001b[1;32mc:\\Python\\lib\\site-packages\\seaborn\\__init__.py:2\u001b[0m\n\u001b[0;32m      1\u001b[0m \u001b[38;5;66;03m# Import seaborn objects\u001b[39;00m\n\u001b[1;32m----> 2\u001b[0m \u001b[38;5;28;01mfrom\u001b[39;00m \u001b[38;5;21;01m.\u001b[39;00m\u001b[38;5;21;01mrcmod\u001b[39;00m \u001b[38;5;28;01mimport\u001b[39;00m \u001b[38;5;241m*\u001b[39m  \u001b[38;5;66;03m# noqa: F401,F403\u001b[39;00m\n\u001b[0;32m      3\u001b[0m \u001b[38;5;28;01mfrom\u001b[39;00m \u001b[38;5;21;01m.\u001b[39;00m\u001b[38;5;21;01mutils\u001b[39;00m \u001b[38;5;28;01mimport\u001b[39;00m \u001b[38;5;241m*\u001b[39m  \u001b[38;5;66;03m# noqa: F401,F403\u001b[39;00m\n\u001b[0;32m      4\u001b[0m \u001b[38;5;28;01mfrom\u001b[39;00m \u001b[38;5;21;01m.\u001b[39;00m\u001b[38;5;21;01mpalettes\u001b[39;00m \u001b[38;5;28;01mimport\u001b[39;00m \u001b[38;5;241m*\u001b[39m  \u001b[38;5;66;03m# noqa: F401,F403\u001b[39;00m\n",
      "File \u001b[1;32mc:\\Python\\lib\\site-packages\\seaborn\\rcmod.py:3\u001b[0m\n\u001b[0;32m      1\u001b[0m \u001b[38;5;124;03m\"\"\"Control plot style and scaling using the matplotlib rcParams interface.\"\"\"\u001b[39;00m\n\u001b[0;32m      2\u001b[0m \u001b[38;5;28;01mimport\u001b[39;00m \u001b[38;5;21;01mfunctools\u001b[39;00m\n\u001b[1;32m----> 3\u001b[0m \u001b[38;5;28;01mimport\u001b[39;00m \u001b[38;5;21;01mmatplotlib\u001b[39;00m \u001b[38;5;28;01mas\u001b[39;00m \u001b[38;5;21;01mmpl\u001b[39;00m\n\u001b[0;32m      4\u001b[0m \u001b[38;5;28;01mfrom\u001b[39;00m \u001b[38;5;21;01mcycler\u001b[39;00m \u001b[38;5;28;01mimport\u001b[39;00m cycler\n\u001b[0;32m      5\u001b[0m \u001b[38;5;28;01mfrom\u001b[39;00m \u001b[38;5;21;01m.\u001b[39;00m \u001b[38;5;28;01mimport\u001b[39;00m palettes\n",
      "File \u001b[1;32mc:\\Python\\lib\\site-packages\\matplotlib\\__init__.py:148\u001b[0m\n\u001b[0;32m    144\u001b[0m \u001b[38;5;28;01mfrom\u001b[39;00m \u001b[38;5;21;01mpackaging\u001b[39;00m\u001b[38;5;21;01m.\u001b[39;00m\u001b[38;5;21;01mversion\u001b[39;00m \u001b[38;5;28;01mimport\u001b[39;00m parse \u001b[38;5;28;01mas\u001b[39;00m parse_version\n\u001b[0;32m    146\u001b[0m \u001b[38;5;66;03m# cbook must import matplotlib only within function\u001b[39;00m\n\u001b[0;32m    147\u001b[0m \u001b[38;5;66;03m# definitions, so it is safe to import from it here.\u001b[39;00m\n\u001b[1;32m--> 148\u001b[0m \u001b[38;5;28;01mfrom\u001b[39;00m \u001b[38;5;21;01m.\u001b[39;00m \u001b[38;5;28;01mimport\u001b[39;00m _api, _version, cbook, _docstring, rcsetup\n\u001b[0;32m    149\u001b[0m \u001b[38;5;28;01mfrom\u001b[39;00m \u001b[38;5;21;01mmatplotlib\u001b[39;00m\u001b[38;5;21;01m.\u001b[39;00m\u001b[38;5;21;01mcbook\u001b[39;00m \u001b[38;5;28;01mimport\u001b[39;00m sanitize_sequence\n\u001b[0;32m    150\u001b[0m \u001b[38;5;28;01mfrom\u001b[39;00m \u001b[38;5;21;01mmatplotlib\u001b[39;00m\u001b[38;5;21;01m.\u001b[39;00m\u001b[38;5;21;01m_api\u001b[39;00m \u001b[38;5;28;01mimport\u001b[39;00m MatplotlibDeprecationWarning\n",
      "File \u001b[1;32mc:\\Python\\lib\\site-packages\\matplotlib\\rcsetup.py:27\u001b[0m\n\u001b[0;32m     25\u001b[0m \u001b[38;5;28;01mfrom\u001b[39;00m \u001b[38;5;21;01mmatplotlib\u001b[39;00m \u001b[38;5;28;01mimport\u001b[39;00m _api, cbook\n\u001b[0;32m     26\u001b[0m \u001b[38;5;28;01mfrom\u001b[39;00m \u001b[38;5;21;01mmatplotlib\u001b[39;00m\u001b[38;5;21;01m.\u001b[39;00m\u001b[38;5;21;01mcbook\u001b[39;00m \u001b[38;5;28;01mimport\u001b[39;00m ls_mapper\n\u001b[1;32m---> 27\u001b[0m \u001b[38;5;28;01mfrom\u001b[39;00m \u001b[38;5;21;01mmatplotlib\u001b[39;00m\u001b[38;5;21;01m.\u001b[39;00m\u001b[38;5;21;01mcolors\u001b[39;00m \u001b[38;5;28;01mimport\u001b[39;00m Colormap, is_color_like\n\u001b[0;32m     28\u001b[0m \u001b[38;5;28;01mfrom\u001b[39;00m \u001b[38;5;21;01mmatplotlib\u001b[39;00m\u001b[38;5;21;01m.\u001b[39;00m\u001b[38;5;21;01m_fontconfig_pattern\u001b[39;00m \u001b[38;5;28;01mimport\u001b[39;00m parse_fontconfig_pattern\n\u001b[0;32m     29\u001b[0m \u001b[38;5;28;01mfrom\u001b[39;00m \u001b[38;5;21;01mmatplotlib\u001b[39;00m\u001b[38;5;21;01m.\u001b[39;00m\u001b[38;5;21;01m_enums\u001b[39;00m \u001b[38;5;28;01mimport\u001b[39;00m JoinStyle, CapStyle\n",
      "File \u001b[1;32mc:\\Python\\lib\\site-packages\\matplotlib\\colors.py:56\u001b[0m\n\u001b[0;32m     54\u001b[0m \u001b[38;5;28;01mimport\u001b[39;00m \u001b[38;5;21;01mmatplotlib\u001b[39;00m \u001b[38;5;28;01mas\u001b[39;00m \u001b[38;5;21;01mmpl\u001b[39;00m\n\u001b[0;32m     55\u001b[0m \u001b[38;5;28;01mimport\u001b[39;00m \u001b[38;5;21;01mnumpy\u001b[39;00m \u001b[38;5;28;01mas\u001b[39;00m \u001b[38;5;21;01mnp\u001b[39;00m\n\u001b[1;32m---> 56\u001b[0m \u001b[38;5;28;01mfrom\u001b[39;00m \u001b[38;5;21;01mmatplotlib\u001b[39;00m \u001b[38;5;28;01mimport\u001b[39;00m _api, _cm, cbook, scale\n\u001b[0;32m     57\u001b[0m \u001b[38;5;28;01mfrom\u001b[39;00m \u001b[38;5;21;01m.\u001b[39;00m\u001b[38;5;21;01m_color_data\u001b[39;00m \u001b[38;5;28;01mimport\u001b[39;00m BASE_COLORS, TABLEAU_COLORS, CSS4_COLORS, XKCD_COLORS\n\u001b[0;32m     60\u001b[0m \u001b[38;5;28;01mclass\u001b[39;00m \u001b[38;5;21;01m_ColorMapping\u001b[39;00m(\u001b[38;5;28mdict\u001b[39m):\n",
      "File \u001b[1;32mc:\\Python\\lib\\site-packages\\matplotlib\\scale.py:22\u001b[0m\n\u001b[0;32m     20\u001b[0m \u001b[38;5;28;01mimport\u001b[39;00m \u001b[38;5;21;01mmatplotlib\u001b[39;00m \u001b[38;5;28;01mas\u001b[39;00m \u001b[38;5;21;01mmpl\u001b[39;00m\n\u001b[0;32m     21\u001b[0m \u001b[38;5;28;01mfrom\u001b[39;00m \u001b[38;5;21;01mmatplotlib\u001b[39;00m \u001b[38;5;28;01mimport\u001b[39;00m _api, _docstring\n\u001b[1;32m---> 22\u001b[0m \u001b[38;5;28;01mfrom\u001b[39;00m \u001b[38;5;21;01mmatplotlib\u001b[39;00m\u001b[38;5;21;01m.\u001b[39;00m\u001b[38;5;21;01mticker\u001b[39;00m \u001b[38;5;28;01mimport\u001b[39;00m (\n\u001b[0;32m     23\u001b[0m     NullFormatter, ScalarFormatter, LogFormatterSciNotation, LogitFormatter,\n\u001b[0;32m     24\u001b[0m     NullLocator, LogLocator, AutoLocator, AutoMinorLocator,\n\u001b[0;32m     25\u001b[0m     SymmetricalLogLocator, AsinhLocator, LogitLocator)\n\u001b[0;32m     26\u001b[0m \u001b[38;5;28;01mfrom\u001b[39;00m \u001b[38;5;21;01mmatplotlib\u001b[39;00m\u001b[38;5;21;01m.\u001b[39;00m\u001b[38;5;21;01mtransforms\u001b[39;00m \u001b[38;5;28;01mimport\u001b[39;00m Transform, IdentityTransform\n\u001b[0;32m     29\u001b[0m \u001b[38;5;28;01mclass\u001b[39;00m \u001b[38;5;21;01mScaleBase\u001b[39;00m:\n",
      "File \u001b[1;32mc:\\Python\\lib\\site-packages\\matplotlib\\ticker.py:138\u001b[0m\n\u001b[0;32m    136\u001b[0m \u001b[38;5;28;01mimport\u001b[39;00m \u001b[38;5;21;01mmatplotlib\u001b[39;00m \u001b[38;5;28;01mas\u001b[39;00m \u001b[38;5;21;01mmpl\u001b[39;00m\n\u001b[0;32m    137\u001b[0m \u001b[38;5;28;01mfrom\u001b[39;00m \u001b[38;5;21;01mmatplotlib\u001b[39;00m \u001b[38;5;28;01mimport\u001b[39;00m _api, cbook\n\u001b[1;32m--> 138\u001b[0m \u001b[38;5;28;01mfrom\u001b[39;00m \u001b[38;5;21;01mmatplotlib\u001b[39;00m \u001b[38;5;28;01mimport\u001b[39;00m transforms \u001b[38;5;28;01mas\u001b[39;00m mtransforms\n\u001b[0;32m    140\u001b[0m _log \u001b[38;5;241m=\u001b[39m logging\u001b[38;5;241m.\u001b[39mgetLogger(\u001b[38;5;18m__name__\u001b[39m)\n\u001b[0;32m    142\u001b[0m __all__ \u001b[38;5;241m=\u001b[39m (\u001b[38;5;124m'\u001b[39m\u001b[38;5;124mTickHelper\u001b[39m\u001b[38;5;124m'\u001b[39m, \u001b[38;5;124m'\u001b[39m\u001b[38;5;124mFormatter\u001b[39m\u001b[38;5;124m'\u001b[39m, \u001b[38;5;124m'\u001b[39m\u001b[38;5;124mFixedFormatter\u001b[39m\u001b[38;5;124m'\u001b[39m,\n\u001b[0;32m    143\u001b[0m            \u001b[38;5;124m'\u001b[39m\u001b[38;5;124mNullFormatter\u001b[39m\u001b[38;5;124m'\u001b[39m, \u001b[38;5;124m'\u001b[39m\u001b[38;5;124mFuncFormatter\u001b[39m\u001b[38;5;124m'\u001b[39m, \u001b[38;5;124m'\u001b[39m\u001b[38;5;124mFormatStrFormatter\u001b[39m\u001b[38;5;124m'\u001b[39m,\n\u001b[0;32m    144\u001b[0m            \u001b[38;5;124m'\u001b[39m\u001b[38;5;124mStrMethodFormatter\u001b[39m\u001b[38;5;124m'\u001b[39m, \u001b[38;5;124m'\u001b[39m\u001b[38;5;124mScalarFormatter\u001b[39m\u001b[38;5;124m'\u001b[39m, \u001b[38;5;124m'\u001b[39m\u001b[38;5;124mLogFormatter\u001b[39m\u001b[38;5;124m'\u001b[39m,\n\u001b[1;32m   (...)\u001b[0m\n\u001b[0;32m    150\u001b[0m            \u001b[38;5;124m'\u001b[39m\u001b[38;5;124mMultipleLocator\u001b[39m\u001b[38;5;124m'\u001b[39m, \u001b[38;5;124m'\u001b[39m\u001b[38;5;124mMaxNLocator\u001b[39m\u001b[38;5;124m'\u001b[39m, \u001b[38;5;124m'\u001b[39m\u001b[38;5;124mAutoMinorLocator\u001b[39m\u001b[38;5;124m'\u001b[39m,\n\u001b[0;32m    151\u001b[0m            \u001b[38;5;124m'\u001b[39m\u001b[38;5;124mSymmetricalLogLocator\u001b[39m\u001b[38;5;124m'\u001b[39m, \u001b[38;5;124m'\u001b[39m\u001b[38;5;124mAsinhLocator\u001b[39m\u001b[38;5;124m'\u001b[39m, \u001b[38;5;124m'\u001b[39m\u001b[38;5;124mLogitLocator\u001b[39m\u001b[38;5;124m'\u001b[39m)\n",
      "File \u001b[1;32mc:\\Python\\lib\\site-packages\\matplotlib\\transforms.py:49\u001b[0m\n\u001b[0;32m     46\u001b[0m \u001b[38;5;28;01mfrom\u001b[39;00m \u001b[38;5;21;01mnumpy\u001b[39;00m\u001b[38;5;21;01m.\u001b[39;00m\u001b[38;5;21;01mlinalg\u001b[39;00m \u001b[38;5;28;01mimport\u001b[39;00m inv\n\u001b[0;32m     48\u001b[0m \u001b[38;5;28;01mfrom\u001b[39;00m \u001b[38;5;21;01mmatplotlib\u001b[39;00m \u001b[38;5;28;01mimport\u001b[39;00m _api\n\u001b[1;32m---> 49\u001b[0m \u001b[38;5;28;01mfrom\u001b[39;00m \u001b[38;5;21;01mmatplotlib\u001b[39;00m\u001b[38;5;21;01m.\u001b[39;00m\u001b[38;5;21;01m_path\u001b[39;00m \u001b[38;5;28;01mimport\u001b[39;00m (\n\u001b[0;32m     50\u001b[0m     affine_transform, count_bboxes_overlapping_bbox, update_path_extents)\n\u001b[0;32m     51\u001b[0m \u001b[38;5;28;01mfrom\u001b[39;00m \u001b[38;5;21;01m.\u001b[39;00m\u001b[38;5;21;01mpath\u001b[39;00m \u001b[38;5;28;01mimport\u001b[39;00m Path\n\u001b[0;32m     53\u001b[0m DEBUG \u001b[38;5;241m=\u001b[39m \u001b[38;5;28;01mFalse\u001b[39;00m\n",
      "\u001b[1;31mImportError\u001b[0m: numpy.core.multiarray failed to import"
     ]
    }
   ],
   "source": [
    "import seaborn as sns\n",
    "import re\n",
    "\n",
    "def word_count(text):\n",
    "    dict = {}\n",
    "    text = re.sub(r'[^\\w\\s]', '', text) # Удаляем пунктуацию и приводим к нижнему регистрe\n",
    "    \n",
    "    for word in text.split():\n",
    "        if len(word) > 1:\n",
    "          dict[word] = dict.get(word, 0) + 1\n",
    "    words = []\n",
    "    counts = []\n",
    "    top10 = sorted(dict.items(), key=lambda item: item[1], reverse=True)[:10]\n",
    "    for word, count in top10:\n",
    "      words.append(word)\n",
    "      counts.append(count)\n",
    "    sns.barplot(x=words, y=counts)\n",
    "word_count(\"aa aa aa bb cc cc A B C a AA\")\n"
   ]
  },
  {
   "cell_type": "code",
   "execution_count": 2,
   "metadata": {
    "colab": {
     "base_uri": "https://localhost:8080/",
     "height": 49,
     "referenced_widgets": [
      "16ce3ff11d4a481ea7b1b988d8e31f2c",
      "cf58ddade00b4bdca67bd2231e6dc4e4",
      "80d05574cdfb40eb8f147f5e331599f9"
     ]
    },
    "executionInfo": {
     "elapsed": 12,
     "status": "ok",
     "timestamp": 1733310542089,
     "user": {
      "displayName": "tien san",
      "userId": "04520947246998281854"
     },
     "user_tz": -600
    },
    "id": "mMathQVNIPzK",
    "outputId": "97cd2345-3db7-4785-fb28-11f8924d8ef0"
   },
   "outputs": [
    {
     "data": {
      "application/vnd.jupyter.widget-view+json": {
       "model_id": "16ce3ff11d4a481ea7b1b988d8e31f2c",
       "version_major": 2,
       "version_minor": 0
      },
      "text/plain": [
       "Text(value='', placeholder='тут текст')"
      ]
     },
     "metadata": {},
     "output_type": "display_data"
    }
   ],
   "source": [
    "# Это магия для ввода текста, не трогайте её\n",
    "# Выполните эту ячейку и увидите поле для ввода текста.\n",
    "# Введите текст, нажмите Enter и получите ответ, который вы вычислили в функции выше\n",
    "from ipywidgets import widgets\n",
    "text = widgets.Text(placeholder=\"тут текст\")\n",
    "display(text)\n",
    "text.on_submit(lambda txt: word_count(txt.value))\n",
    "\n",
    "# введите число и нажмите enter"
   ]
  },
  {
   "cell_type": "markdown",
   "metadata": {
    "id": "bUSx4-quIPzK"
   },
   "source": [
    "# Задание 2. Сумма цифр числа\n",
    "\n",
    "Посчитать сумму цифр данного натурального числа. Например, `summa(1234) == 1+2+3+4 == 10`."
   ]
  },
  {
   "cell_type": "code",
   "execution_count": 1,
   "metadata": {
    "colab": {
     "base_uri": "https://localhost:8080/"
    },
    "executionInfo": {
     "elapsed": 10,
     "status": "ok",
     "timestamp": 1733310542090,
     "user": {
      "displayName": "tien san",
      "userId": "04520947246998281854"
     },
     "user_tz": -600
    },
    "id": "6NSuDZ5wIPzL",
    "outputId": "7ed1d43d-cd18-430a-9e97-ba6eecc2fce9"
   },
   "outputs": [
    {
     "data": {
      "text/plain": [
       "10"
      ]
     },
     "execution_count": 1,
     "metadata": {},
     "output_type": "execute_result"
    }
   ],
   "source": [
    "def summa(n):\n",
    "    if n <= 0:\n",
    "        return None\n",
    "    total_sum = 0\n",
    "    while n > 0:\n",
    "        digit = n % 10  \n",
    "        total_sum += digit  \n",
    "        n //= 10  \n",
    "\n",
    "    return total_sum\n",
    "summa(1234)"
   ]
  },
  {
   "cell_type": "markdown",
   "metadata": {
    "id": "cLLF-B3_IPzL"
   },
   "source": [
    "> Человеку свойственна итерация, рекурсия – удел богов. \\(James O. Coplien, Bell Labs\\)"
   ]
  },
  {
   "cell_type": "code",
   "execution_count": 4,
   "metadata": {
    "colab": {
     "base_uri": "https://localhost:8080/"
    },
    "executionInfo": {
     "elapsed": 8,
     "status": "ok",
     "timestamp": 1733310542090,
     "user": {
      "displayName": "tien san",
      "userId": "04520947246998281854"
     },
     "user_tz": -600
    },
    "id": "n2qiQiRtIPzL",
    "outputId": "e48e6b8d-da8f-4ddf-c871-a9bd6db7c9c8"
   },
   "outputs": [
    {
     "data": {
      "text/plain": [
       "10"
      ]
     },
     "execution_count": 4,
     "metadata": {},
     "output_type": "execute_result"
    }
   ],
   "source": [
    "def summa_recursive(n):\n",
    "    if n == 0:\n",
    "        return 0\n",
    "    last_digit = n % 10\n",
    "    return last_digit + summa_recursive(n // 10)\n",
    "summa_recursive(1234)\n"
   ]
  },
  {
   "cell_type": "markdown",
   "metadata": {
    "id": "RKeFGjJQIPzL"
   },
   "source": [
    "# Задание 3. Множество\n",
    "\n",
    "Это необязательное задание. Но можете сделать для себя, а мы сделаем вам review.\n",
    "\n",
    "## Теория\n",
    "\n",
    "Множество - это набор **различных** объектов. Это означает, что в нём нет повторяющихся объектов. `[1,2,3]` - множество, а `[1,2,2,3,1]` - не удовлетворяет определению.\n",
    "\n",
    "Множество - это абстрактная структура данных и её можно реализовать несколькими способами. Но для начала определим поведения для этой абстракции.\n",
    "\n",
    "#### Базовые операции:\n",
    "\n",
    "Этот набор поведений определяет саму абстракцию.\n",
    "\n",
    "- добавить элемент в множество\n",
    "- объединить множества\n",
    "- пересечь множества\n",
    "- проверка принадлежности элемента множеству\n",
    "\n",
    "#### Вспомогательные:\n",
    "\n",
    "Это дополнительные функции. Они просто помогают пользоваться этой абстракцией.\n",
    "\n",
    "- вычислить длину\n",
    "- итерация по множеству\n",
    "- создать множество из списка элементов\n",
    "- сконвертировать множество в список\n",
    "\n",
    "### Реализации\n",
    "\n",
    "По определению, множество предоставляет только одну услугу - хранит только разные элементы. Порядок хранить оно не обязано, доступа по индексу тоже нет. Тогда на основе чего можно построить эту абстракцию?\n",
    "\n",
    "#### Список\n",
    "\n",
    "Мы можем создать множества на основе списка и просто проверять при каждой вставке в него то, есть ли в нём уже этот элемент или нет.\n",
    "\n",
    "Преимущества:\n",
    "- легко сделать\n",
    "\n",
    "Недостатки:\n",
    "- долгий поиск принадлежности и вставки O(n)\n",
    "- очень долгое пересечение O(n^2)\n",
    "\n",
    "#### Упорядоченный список\n",
    "\n",
    "А что если хранить все элементы в списке упорядоченно? Тогда вставка будет занимать меньше времени в среднем: O(n/2). Но это тот же порядок.\n",
    "\n",
    "#### Деревья поиска\n",
    "\n",
    "Существует такая структура данных как дерево. Оно было создано специально для решения задачи поиска. В сбалансированном дереве поиск элемента имеет сложность O(log_2(n)), что очень хорошо. Сравните её с O(n):\n",
    "\n",
    "![](https://habrastorage.org/getpro/habr/post_images/195/e1f/6a1/195e1f6a1379554ca9025338301a78ed.png)\n",
    "\n",
    "__картинка взята из статьи [bigocheatsheet.com](http://bigocheatsheet.com/)__\n",
    "\n",
    "Условия бинарного дерева поиска:\n",
    "\n",
    "- Оба поддерева — левое и правое — являются двоичными деревьями поиска.\n",
    "- У всех узлов левого поддерева произвольного узла X значения ключей данных меньше, нежели значение ключа данных самого узла X.\n",
    "- У всех узлов правого поддерева произвольного узла X значения ключей данных больше либо равно, нежели значение ключа данных самого узла X.\n",
    "\n",
    "Статья на [wiki](https://ru.wikipedia.org/wiki/%D0%94%D0%B2%D0%BE%D0%B8%D1%87%D0%BD%D0%BE%D0%B5_%D0%B4%D0%B5%D1%80%D0%B5%D0%B2%D0%BE_%D0%BF%D0%BE%D0%B8%D1%81%D0%BA%D0%B0).\n",
    "\n",
    "#### Хэш таблицы\n",
    "\n",
    "Основная идея заключается в использовании некоторой хэш функции, которая возвращает некоторое число. Это число используется как индекс в массиве. Поэтому операция поиска принадлежности будет O(1). В случае коллизии хэш функции, то есть когда для разных элементов было вычислено одно и то же значение хэш функции, предусматривается некоторое специальное поведение. Например, можно по индексу хэш функции хранить не один элемент, а несколько. Если коллизий очень мало, то поиск принадлежности будет всё тот же O(1) + O(n), где n - количество элементов с одним хешем. Такой метод называется методом цепочек.\n",
    "\n",
    "Статья на [wiki](https://ru.wikipedia.org/wiki/%D0%A5%D0%B5%D1%88-%D1%82%D0%B0%D0%B1%D0%BB%D0%B8%D1%86%D0%B0)"
   ]
  },
  {
   "cell_type": "markdown",
   "metadata": {
    "id": "7Uz9_aLJIPzM"
   },
   "source": [
    "## Практика\n",
    "\n",
    "Можно сделать в функциональном, процедурном или ООП стиле.\n",
    "\n",
    "### Задание 3.1. Множество на основе хеш-таблицы\n",
    "\n",
    "Используйте массивы python как базовую структуру.\n",
    "Реализуйте какую-нибудь функцию хеширования: например, остаток от деления на N или [mur-mur](https://ru.wikipedia.org/wiki/Murmur2). Для начала, чтобы тестировать свой код, можете использовать функцию `hash`.\n",
    "\n",
    "Напишите бенчмарк(замер скорости выполнения) для базовых функций вашего множества."
   ]
  },
  {
   "cell_type": "code",
   "execution_count": 99,
   "metadata": {
    "executionInfo": {
     "elapsed": 316,
     "status": "ok",
     "timestamp": 1733317777823,
     "user": {
      "displayName": "tien san",
      "userId": "04520947246998281854"
     },
     "user_tz": -600
    },
    "id": "tY0-CK-MtvlM"
   },
   "outputs": [],
   "source": [
    "class Hash:\n",
    "    def __init__(self, size = 100):\n",
    "        self.size: int = size\n",
    "        self.table: List[List[int]] = [[] for _ in range(size)]\n",
    "\n",
    "    def hash(self, value):\n",
    "        return value % self.size\n",
    "\n",
    "    def add(self, value):\n",
    "      i = self.hash(value)\n",
    "      if value not in self.table[i]:\n",
    "          self.table[i].append(value)\n",
    "\n",
    "    def contain(self, value):\n",
    "        return value in self.table[self.hash(value)]\n",
    "\n",
    "    def union(self, other):\n",
    "        new = Hash(self.size)\n",
    "        for bucket in self.table:\n",
    "            for item in bucket:\n",
    "                new.add(item)\n",
    "        for bucket in other.table:\n",
    "            for item in bucket:\n",
    "                new.add(item)\n",
    "        return new\n",
    "\n",
    "    def intersection(self, other):\n",
    "        new = Hash(self.size)\n",
    "        for bucket in self.table:\n",
    "            for item in bucket:\n",
    "                if other.contain(item):\n",
    "                    new.add(item)\n",
    "        return new\n",
    "\n",
    "    def fromList(self, elements):\n",
    "        for i in elements:\n",
    "            self.add(i)\n",
    "\n",
    "    def __iter__(self):\n",
    "      for bucket in self.table:\n",
    "          for item in bucket:\n",
    "              yield item\n",
    "\n",
    "    def __len__(self):\n",
    "      sum = 0\n",
    "      for bucket in self.table:\n",
    "        sum += len(bucket)\n",
    "      return sum\n",
    "\n",
    "    def toList(self):\n",
    "      l = []\n",
    "      for item in self:\n",
    "        l.append(item)\n",
    "      return l"
   ]
  },
  {
   "cell_type": "code",
   "execution_count": 119,
   "metadata": {
    "colab": {
     "base_uri": "https://localhost:8080/"
    },
    "executionInfo": {
     "elapsed": 428,
     "status": "ok",
     "timestamp": 1733318287709,
     "user": {
      "displayName": "tien san",
      "userId": "04520947246998281854"
     },
     "user_tz": -600
    },
    "id": "yqQBoJfTIPzM",
    "outputId": "d758c50c-31b2-4d0e-bccd-70c2fe5b9908"
   },
   "outputs": [
    {
     "name": "stdout",
     "output_type": "stream",
     "text": [
      "add:  0.010123014450073242\n",
      "contain:  0.010781049728393555\n",
      "union:  0.01985025405883789\n",
      "intersection:  0.01991415023803711\n"
     ]
    }
   ],
   "source": [
    "import time\n",
    "\n",
    "def benchmark(hash):\n",
    "    start = time.time()\n",
    "    for i in range(10000):\n",
    "      hash.add(i)\n",
    "    stop = time.time()\n",
    "    print('add: ', stop - start)\n",
    "\n",
    "    start = time.time()\n",
    "    for i in range(10000):\n",
    "      hash.contain(i)\n",
    "    stop = time.time()\n",
    "    print('contain: ', stop - start)\n",
    "\n",
    "    hash1 = Hash()\n",
    "    hash1.fromList(range(0, 10000))\n",
    "    start = time.time()\n",
    "    union = hash.union(hash1)\n",
    "    stop = time.time()\n",
    "    print('union: ', stop - start)\n",
    "\n",
    "    start = time.time()\n",
    "    intersection = hash.intersection(hash1)\n",
    "    stop = time.time()\n",
    "    print('intersection: ', stop - start)\n",
    "\n",
    "a = Hash()\n",
    "benchmark(a)"
   ]
  },
  {
   "cell_type": "markdown",
   "metadata": {
    "id": "3lPA2YhaIPzM"
   },
   "source": [
    "### Задание 3.2. Множество на основе дерева\n",
    "\n",
    "Реализуйте множество на основе бинарного дерева поиска. Если вам понадобится массив, то используйте только ваш список из предыдущей практики.\n",
    "\n",
    "Напишите бенчмарк(замер скорости выполнения) для базовых функций вашего множества.\n",
    "\n",
    "Сравните скорость работы каждой реализации множества."
   ]
  },
  {
   "cell_type": "code",
   "execution_count": 120,
   "metadata": {
    "executionInfo": {
     "elapsed": 438,
     "status": "ok",
     "timestamp": 1733318300836,
     "user": {
      "displayName": "tien san",
      "userId": "04520947246998281854"
     },
     "user_tz": -600
    },
    "id": "ev5e8KMaIPzM"
   },
   "outputs": [],
   "source": [
    "class Node:\n",
    "    def __init__(self, value):\n",
    "        self.value = value\n",
    "        self.left = None\n",
    "        self.right = None\n",
    "\n",
    "class Tree:\n",
    "    def __init__(self):\n",
    "        self.root = None\n",
    "\n",
    "    def add(self, value):\n",
    "        if not self.root:\n",
    "            self.root = Node(value)\n",
    "            return\n",
    "\n",
    "        current = self.root\n",
    "        while current:\n",
    "\n",
    "            if value < current.value:\n",
    "                if current.left is None:\n",
    "                    current.left = Node(value)\n",
    "                    return\n",
    "                current = current.left\n",
    "\n",
    "            elif value > current.value:\n",
    "                if current.right is None:\n",
    "                    current.right = Node(value)\n",
    "                    return\n",
    "                current = current.right\n",
    "\n",
    "            else:\n",
    "                return\n",
    "\n",
    "    def contains(self, value: int) -> bool:\n",
    "        current = self.root\n",
    "\n",
    "        while current:\n",
    "\n",
    "            if value == current.value:\n",
    "                return True\n",
    "\n",
    "            elif value < current.value:\n",
    "                current = current.left\n",
    "\n",
    "            else:\n",
    "                current = current.right\n",
    "        return False\n",
    "\n",
    "    def union(self, other):\n",
    "        new = Tree()\n",
    "        for value in self:\n",
    "            new.add(value)\n",
    "\n",
    "        for value in other:\n",
    "            new.add(value)\n",
    "        return new\n",
    "\n",
    "    def intersection(self, other):\n",
    "        new = Tree()\n",
    "\n",
    "        for value in self:\n",
    "            if other.contains(value):\n",
    "                new.add(value)\n",
    "        return new\n",
    "\n",
    "    def __len__(self):\n",
    "      sum = 0\n",
    "      for i in self:\n",
    "        sum += 1\n",
    "      return sum\n",
    "\n",
    "    def fromList(self, elements):\n",
    "        for i in elements:\n",
    "            self.add(i)\n",
    "\n",
    "    def toList(self):\n",
    "      l = []\n",
    "      for item in self:\n",
    "        l.append(item)\n",
    "      return l"
   ]
  },
  {
   "cell_type": "code",
   "execution_count": 126,
   "metadata": {
    "colab": {
     "base_uri": "https://localhost:8080/"
    },
    "executionInfo": {
     "elapsed": 316,
     "status": "ok",
     "timestamp": 1733318535518,
     "user": {
      "displayName": "tien san",
      "userId": "04520947246998281854"
     },
     "user_tz": -600
    },
    "id": "X_2ekaSWAgmx",
    "outputId": "899b463e-9286-4138-d70b-b943d3b39e4f"
   },
   "outputs": [
    {
     "name": "stdout",
     "output_type": "stream",
     "text": [
      "add:  0.017821073532104492\n",
      "contain:  0.01751232147216797\n",
      "union:  0.03280520439147949\n",
      "intersection:  0.033284902572631836\n"
     ]
    }
   ],
   "source": [
    "import time\n",
    "\n",
    "def benchmark(hash):\n",
    "    start = time.time()\n",
    "    for i in range(10000):\n",
    "      hash.add(i)\n",
    "    stop = time.time()\n",
    "    print('add: ', stop - start)\n",
    "\n",
    "    start = time.time()\n",
    "    for i in range(10000):\n",
    "      hash.contain(i)\n",
    "    stop = time.time()\n",
    "    print('contain: ', stop - start)\n",
    "\n",
    "    hash1 = Hash()\n",
    "    hash1.fromList(range(0, 10000))\n",
    "    start = time.time()\n",
    "    union = hash.union(hash1)\n",
    "    stop = time.time()\n",
    "    print('union: ', stop - start)\n",
    "\n",
    "    start = time.time()\n",
    "    intersection = hash.intersection(hash1)\n",
    "    stop = time.time()\n",
    "    print('intersection: ', stop - start)\n",
    "\n",
    "a = Hash()\n",
    "benchmark(a)"
   ]
  },
  {
   "cell_type": "markdown",
   "metadata": {
    "id": "YIEVy0cLAz2J"
   },
   "source": [
    "хеш таблица быстрее чем дерево"
   ]
  },
  {
   "cell_type": "markdown",
   "metadata": {
    "id": "WU_CcqzVIPzN"
   },
   "source": [
    "# Задание 4. Матрицы\n",
    "\n",
    "Реализуйте класс матрица и набор важных функций:\n",
    "\n",
    "- сложение матриц\n",
    "- умножение матрицы на число\n",
    "- матричное произведение\n",
    "- поиск определителя\n",
    "- вычисление обратной матрицы\n",
    "- транспонирование матрицы\n",
    "\n",
    "Использовать numpy нельзя. Все матричные операции вам надо реализовать полностью самостоятельно.\n",
    "\n",
    "Класс Matrix должен следовать принципам Data Model: https://docs.python.org/3/reference/datamodel.html"
   ]
  },
  {
   "cell_type": "code",
   "execution_count": 9,
   "metadata": {
    "executionInfo": {
     "elapsed": 18,
     "status": "ok",
     "timestamp": 1733310543151,
     "user": {
      "displayName": "tien san",
      "userId": "04520947246998281854"
     },
     "user_tz": -600
    },
    "id": "sSh9sV2FIPzN"
   },
   "outputs": [],
   "source": [
    "from typing import List\n",
    "import copy\n",
    "class Matrix:\n",
    "    def __init__(self, data: List[List[float]]):\n",
    "        self.data = data\n",
    "        self.n = len(data)\n",
    "        self.m = len(data[0])\n",
    "\n",
    "    def init(self, n, m):\n",
    "        new = copy.deepcopy(self)\n",
    "        new.n = n\n",
    "        new.m = m\n",
    "        new.data = []\n",
    "        for i in range(n):\n",
    "          new.data.append([])\n",
    "          for j in range(m):\n",
    "            new.data[i].append(0)\n",
    "        return new\n",
    "\n",
    "    def __add__(self, other):\n",
    "      new = copy.deepcopy(self)\n",
    "      if isinstance(other, Matrix):\n",
    "        if self.n != other.n or self.m != other.m:\n",
    "          return\n",
    "        for i in range(self.n):\n",
    "          for j in range(self.m):\n",
    "            new.data[i][j] += other.data[i][j]\n",
    "      elif isinstance(other, (float, int)):\n",
    "        for i in range(self.n):\n",
    "          for j in range(self.m):\n",
    "            new.data[i][j] += other\n",
    "      return new\n",
    "\n",
    "    def __sub__(self, other):\n",
    "      new = copy.deepcopy(self)\n",
    "      if isinstance(other, Matrix):\n",
    "        if self.n != other.n or self.m != other.m:\n",
    "          return\n",
    "        for i in range(self.n):\n",
    "          for j in range(self.m):\n",
    "            new.data[i][j] -= other.data[i][j]\n",
    "      elif isinstance(other, (float, int)):\n",
    "        for i in range(self.n):\n",
    "          for j in range(self.m):\n",
    "            new.data[i][j] -= other\n",
    "      return new\n",
    "\n",
    "    def __mul__(self, other):\n",
    "      new = copy.deepcopy(self)\n",
    "      if isinstance(other, Matrix):\n",
    "        if self.n != other.n or self.m != other.m:\n",
    "          return\n",
    "        for i in range(self.n):\n",
    "          for j in range(self.m):\n",
    "            new.data[i][j] *= other.data[i][j]\n",
    "      elif isinstance(other, (float, int)):\n",
    "        for i in range(self.n):\n",
    "          for j in range(self.m):\n",
    "            new.data[i][j] *= other\n",
    "      return new\n",
    "\n",
    "    def __truediv__(self, other):\n",
    "      new = copy.deepcopy(self)\n",
    "      if isinstance(other, Matrix):\n",
    "        if self.n != other.n or self.m != other.m:\n",
    "          return\n",
    "        for i in range(self.n):\n",
    "          for j in range(self.m):\n",
    "            new.data[i][j] /= other.data[i][j]\n",
    "      elif isinstance(other, (float, int)):\n",
    "        for i in range(self.n):\n",
    "          for j in range(self.m):\n",
    "            new.data[i][j] /= other\n",
    "      return new\n",
    "\n",
    "\n",
    "    def __matmul__(self, other):\n",
    "      if self.m != other.n:\n",
    "        return\n",
    "      new = copy.deepcopy(self)\n",
    "      for i in range(self.n):\n",
    "          for j in range(self.m):\n",
    "            new.data[i][j] = 0\n",
    "            for k in range(other.n):\n",
    "                new.data[i][j] += self.data[i][k] * other.data[k][j]\n",
    "      return new\n",
    "\n",
    "\n",
    "    def __neg__(self):\n",
    "        new = copy.deepcopy(self)\n",
    "        for i in range(self.n):\n",
    "          for j in range(self.m):\n",
    "            new.data[i][j] = -(new.data[i][j])\n",
    "        return new\n",
    "\n",
    "    def __abs__(self):\n",
    "        new = copy.deepcopy(self)\n",
    "        for i in range(self.n):\n",
    "          for j in range(self.m):\n",
    "            new.data[i][j] = abs(new.data[i][j])\n",
    "        return new\n",
    "\n",
    "    def det(self):\n",
    "      if (self.n != self.m):\n",
    "        return\n",
    "      if (self.n == 2 and self.m == 2):\n",
    "        return self.data[0][0] * self.data[1][1] - self.data[1][0] * self.data[0][1]\n",
    "      if (self.n == 1 and self.m == 1):\n",
    "        return self.data[0][0]\n",
    "\n",
    "      determinant = 0\n",
    "      for  j in range(self.m):\n",
    "        determinant += self.data[0][j] * self.algAddition(0, j).det() * (-1)**j;\n",
    "      return determinant;\n",
    "\n",
    "    def T(self):\n",
    "        new = copy.deepcopy(self)\n",
    "        for i in range(self.n):\n",
    "          for j in range(self.m):\n",
    "            new.data[i][j] = self.data[j][i]\n",
    "        return new\n",
    "\n",
    "    def inv(self):\n",
    "      det = self.det()\n",
    "      new = copy.deepcopy(self)\n",
    "      for i in range(self.n):\n",
    "        for j in range(self.m):\n",
    "          new.data[j][i] = self.algAddition(i, j).det() / det * (-1)**(i+j);\n",
    "      return new\n",
    "\n",
    "    def algAddition(self, k1, k2):\n",
    "      new = self.init(self.n-1, self.m-1)\n",
    "      i1 = 0\n",
    "      j1 = 0\n",
    "      for i in range(self.n):\n",
    "        for j in range(self.m):\n",
    "          if i != k1 and j != k2:\n",
    "            new.data[i1][j1] = self.data[i][j]\n",
    "            j1 += 1\n",
    "        j1 = 0\n",
    "        if i != k1:\n",
    "          i1 += 1\n",
    "      return new\n",
    "\n",
    "    def __repr__(self):\n",
    "        \"\"\"Представление матрицы в строковом виде\"\"\"\n",
    "        new = \"\"\n",
    "        for n in self.data:\n",
    "            new += \" \".join(map(str, n)) + \"\\n\"\n",
    "        return new.strip()"
   ]
  },
  {
   "cell_type": "code",
   "execution_count": 10,
   "metadata": {
    "executionInfo": {
     "elapsed": 17,
     "status": "ok",
     "timestamp": 1733310543151,
     "user": {
      "displayName": "tien san",
      "userId": "04520947246998281854"
     },
     "user_tz": -600
    },
    "id": "REIQC8doS96S"
   },
   "outputs": [],
   "source": [
    "A = Matrix([\n",
    "    [3, 2],\n",
    "    [1, 7]\n",
    "])\n",
    "\n",
    "B = Matrix([\n",
    "    [8, 3],\n",
    "    [1, 2]\n",
    "])"
   ]
  },
  {
   "cell_type": "code",
   "execution_count": 11,
   "metadata": {
    "colab": {
     "base_uri": "https://localhost:8080/"
    },
    "executionInfo": {
     "elapsed": 16,
     "status": "ok",
     "timestamp": 1733310543151,
     "user": {
      "displayName": "tien san",
      "userId": "04520947246998281854"
     },
     "user_tz": -600
    },
    "id": "6d1xS4yES_UU",
    "outputId": "3cbd0276-042d-4579-9a30-f2b15fbf688b"
   },
   "outputs": [
    {
     "data": {
      "text/plain": [
       "11 5\n",
       "2 9"
      ]
     },
     "execution_count": 11,
     "metadata": {},
     "output_type": "execute_result"
    }
   ],
   "source": [
    "A + B"
   ]
  },
  {
   "cell_type": "code",
   "execution_count": 12,
   "metadata": {
    "colab": {
     "base_uri": "https://localhost:8080/"
    },
    "executionInfo": {
     "elapsed": 13,
     "status": "ok",
     "timestamp": 1733310543151,
     "user": {
      "displayName": "tien san",
      "userId": "04520947246998281854"
     },
     "user_tz": -600
    },
    "id": "AcA1K-JZo1sz",
    "outputId": "1624a1b5-6368-4764-a0d8-89284ab756f0"
   },
   "outputs": [
    {
     "data": {
      "text/plain": [
       "4 3\n",
       "2 8"
      ]
     },
     "execution_count": 12,
     "metadata": {},
     "output_type": "execute_result"
    }
   ],
   "source": [
    "A+1"
   ]
  },
  {
   "cell_type": "code",
   "execution_count": 13,
   "metadata": {
    "colab": {
     "base_uri": "https://localhost:8080/"
    },
    "executionInfo": {
     "elapsed": 9,
     "status": "ok",
     "timestamp": 1733310543151,
     "user": {
      "displayName": "tien san",
      "userId": "04520947246998281854"
     },
     "user_tz": -600
    },
    "id": "k699hcsSWMsn",
    "outputId": "a3ff9ca8-ad9b-4d99-892d-309d59e8c723"
   },
   "outputs": [
    {
     "data": {
      "text/plain": [
       "-5 -1\n",
       "0 5"
      ]
     },
     "execution_count": 13,
     "metadata": {},
     "output_type": "execute_result"
    }
   ],
   "source": [
    "A - B"
   ]
  },
  {
   "cell_type": "code",
   "execution_count": 14,
   "metadata": {
    "colab": {
     "base_uri": "https://localhost:8080/"
    },
    "executionInfo": {
     "elapsed": 408,
     "status": "ok",
     "timestamp": 1733310543554,
     "user": {
      "displayName": "tien san",
      "userId": "04520947246998281854"
     },
     "user_tz": -600
    },
    "id": "FTcMsE3uo3R3",
    "outputId": "80c89d7e-a77e-4cb7-db8f-60c2be51c6b8"
   },
   "outputs": [
    {
     "data": {
      "text/plain": [
       "2 1\n",
       "0 6"
      ]
     },
     "execution_count": 14,
     "metadata": {},
     "output_type": "execute_result"
    }
   ],
   "source": [
    "A - 1"
   ]
  },
  {
   "cell_type": "code",
   "execution_count": 15,
   "metadata": {
    "colab": {
     "base_uri": "https://localhost:8080/"
    },
    "executionInfo": {
     "elapsed": 14,
     "status": "ok",
     "timestamp": 1733310543554,
     "user": {
      "displayName": "tien san",
      "userId": "04520947246998281854"
     },
     "user_tz": -600
    },
    "id": "16ftCsNOn_9-",
    "outputId": "01ed9342-1170-4e8f-c7fc-8658d785d0aa"
   },
   "outputs": [
    {
     "data": {
      "text/plain": [
       "21 14\n",
       "7 49"
      ]
     },
     "execution_count": 15,
     "metadata": {},
     "output_type": "execute_result"
    }
   ],
   "source": [
    "A * 7"
   ]
  },
  {
   "cell_type": "code",
   "execution_count": 16,
   "metadata": {
    "colab": {
     "base_uri": "https://localhost:8080/"
    },
    "executionInfo": {
     "elapsed": 13,
     "status": "ok",
     "timestamp": 1733310543554,
     "user": {
      "displayName": "tien san",
      "userId": "04520947246998281854"
     },
     "user_tz": -600
    },
    "id": "srIxGdvToC0_",
    "outputId": "c76114f4-523c-4814-e261-0d33b6634640"
   },
   "outputs": [
    {
     "data": {
      "text/plain": [
       "1.5 1.0\n",
       "0.5 3.5"
      ]
     },
     "execution_count": 16,
     "metadata": {},
     "output_type": "execute_result"
    }
   ],
   "source": [
    "A / 2"
   ]
  },
  {
   "cell_type": "code",
   "execution_count": 17,
   "metadata": {
    "colab": {
     "base_uri": "https://localhost:8080/"
    },
    "executionInfo": {
     "elapsed": 12,
     "status": "ok",
     "timestamp": 1733310543554,
     "user": {
      "displayName": "tien san",
      "userId": "04520947246998281854"
     },
     "user_tz": -600
    },
    "id": "KRfWomTrn8uk",
    "outputId": "d1c3a5ea-86c0-4901-a9d3-6a33e3b54368"
   },
   "outputs": [
    {
     "name": "stdout",
     "output_type": "stream",
     "text": [
      "3 1\n",
      "2 7\n"
     ]
    }
   ],
   "source": [
    "print(A.T())\n"
   ]
  },
  {
   "cell_type": "code",
   "execution_count": 18,
   "metadata": {
    "colab": {
     "base_uri": "https://localhost:8080/"
    },
    "executionInfo": {
     "elapsed": 11,
     "status": "ok",
     "timestamp": 1733310543554,
     "user": {
      "displayName": "tien san",
      "userId": "04520947246998281854"
     },
     "user_tz": -600
    },
    "id": "lGJffQyeWr3b",
    "outputId": "a5cd5553-9f19-446b-c306-0f84b4683ea9"
   },
   "outputs": [
    {
     "name": "stdout",
     "output_type": "stream",
     "text": [
      "26 13\n",
      "15 17\n"
     ]
    }
   ],
   "source": [
    "print(A @ B)\n"
   ]
  },
  {
   "cell_type": "code",
   "execution_count": 19,
   "metadata": {
    "colab": {
     "base_uri": "https://localhost:8080/"
    },
    "executionInfo": {
     "elapsed": 10,
     "status": "ok",
     "timestamp": 1733310543554,
     "user": {
      "displayName": "tien san",
      "userId": "04520947246998281854"
     },
     "user_tz": -600
    },
    "id": "wLgFeQG9aSp6",
    "outputId": "beda2aa8-9c19-4762-f84e-a4cdba0cbf4d"
   },
   "outputs": [
    {
     "name": "stdout",
     "output_type": "stream",
     "text": [
      "19\n"
     ]
    }
   ],
   "source": [
    "print(A.det())\n"
   ]
  },
  {
   "cell_type": "code",
   "execution_count": 20,
   "metadata": {
    "colab": {
     "base_uri": "https://localhost:8080/"
    },
    "executionInfo": {
     "elapsed": 9,
     "status": "ok",
     "timestamp": 1733310543554,
     "user": {
      "displayName": "tien san",
      "userId": "04520947246998281854"
     },
     "user_tz": -600
    },
    "id": "kfq9mgnAbV07",
    "outputId": "76c2478e-cdef-4f6d-fa8b-beee330d0109"
   },
   "outputs": [
    {
     "name": "stdout",
     "output_type": "stream",
     "text": [
      "0.3684210526315789 -0.10526315789473684\n",
      "-0.05263157894736842 0.15789473684210525\n"
     ]
    }
   ],
   "source": [
    "print(A.inv())"
   ]
  },
  {
   "cell_type": "code",
   "execution_count": 21,
   "metadata": {
    "colab": {
     "base_uri": "https://localhost:8080/"
    },
    "executionInfo": {
     "elapsed": 9,
     "status": "ok",
     "timestamp": 1733310543555,
     "user": {
      "displayName": "tien san",
      "userId": "04520947246998281854"
     },
     "user_tz": -600
    },
    "id": "j1b3TZwyn4Pk",
    "outputId": "44e0bbab-4760-4b39-d332-8a4a90e52622"
   },
   "outputs": [
    {
     "name": "stdout",
     "output_type": "stream",
     "text": [
      "0.9999999999999999 0.0\n",
      "0.0 0.9999999999999999\n"
     ]
    }
   ],
   "source": [
    "print(A @ A.inv())\n"
   ]
  },
  {
   "cell_type": "markdown",
   "metadata": {
    "id": "d9eCMpYiIPzN"
   },
   "source": [
    "# Список.\n",
    "\n",
    "## Теория\n",
    "\n",
    "Мы пойдем весьма необычным путём. В этом задании вы будете реализовывать последовательность(связный список) с помощью рекурсии и базового элемента `tuple`. Это отличается от классического связного списка, основанного на структуре и указателе `next`, когда обход бы делался с помощью `for`, пока не встретился бы _null pointer_.\n",
    "\n",
    "Немного теории. Допустим у нас есть связная последовательность чисел ![](https://senior-sigan.ml/fcs-programming-technology/assets/linked_list.png)\n",
    "\n",
    "Её можно представить в виде последовательности вложенных друг в друга пар: `seq=(1, (2, (3, 4)))`. Тогда чтобы взять последний элемент списка нужно сделать `seq[1][1][1]`. Или если создать специальную вспомогательную функцию `tail`: `tail(tail(tail(seq)))`, что немного математичнее.\n",
    "\n",
    "> Использовать цикл `for`, `while` **запрещено**. Только рекурсия, только хардкор.\n",
    "\n",
    "Можно использовать классы и переопределять операторы, но не обязательно. Как делать классы можно прочитать [тут](https://learnxinyminutes.com/docs/ru-ru/python3-ru/) или в официальной [документации](https://docs.python.org/3/tutorial/classes.html).\n",
    "\n",
    "_Комментарий:_ ваш список должен уметь быть пустым, чтобы его длина была 0. Это потребуется в следующем задании.\n",
    "\n",
    "Далее список задач и примеры функций. Если вы делаете в ООП стиле, то придумайте методы самостоятельно, главное чтобы идея была такая же.\n",
    "\n",
    "### Рекурсивно связная последовательность. Easy.\n",
    "\n",
    "- взятие элемента по индексу `at(seq(1,2,3), 1) == 2`\n",
    "- вычисление длины последовательности `size(seq(1,2)) == 2`\n",
    "- сравнение массивов `eq(seq(1,2), seq(1,2)) == Treu`, `eq(seq(1,2,3), seq(1,2)) == False`\n",
    "\n",
    "### Функции над рекурсивно связаной последовательностью. Moderate.\n",
    "\n",
    "- взятие хвоста последовательности, пропустив N значений, `eq(tail(seq(1,2,3,4), 2), seq(3,4)) == True`\n",
    "- соединение двух списков `eq(concat(seq(1,2), seq(3,4)), seq(1,2,3,4)) == True`\n",
    "- функция `for_each` для обхода списка `for_each(seq(1,2,3,4), lambda x: print(x))`\n",
    "- функция `for_each_indexed` для обхода списка с индексом `for_each(seq(1,2,3,4), lambda i, x: print(i, x))`\n",
    "\n",
    "### Трансформаторы, фильтры, свёртки рекурсивных списков. Hard.\n",
    "\n",
    "- функция преобразования `map`: `map(seq(1,2,3,4), lambda x: x**2) == seq(1,4,9,16)`\n",
    "- функция фильтрации `filter`: `filter(seq(1,2,3,4),lambda x: x%2==1) == seq(1,3)`\n",
    "- функция редуцирования `reduce`: `reduce(s=seq(1,2,3,4), init_value=0, func=lambda acc, cur: acc+cur) == 0+1+2+3+4==10`\n",
    "- на основе функции редуцирования сделать функцию конвертации последовательности в python list `list(seq(1,2,3,4)) == [1,2,3,4]`\n",
    "\n",
    "### Дополнительное задание, если интересно:\n",
    "\n",
    "- на основе функции редуцирования сделать функцию flat_map, которая превращает последовательность последовательностей в последовательность. `flat_map(seq(1,2,3), lambda x: seq(x, x + 10)) == seq(1, 11, 2, 12, 3, 13)`"
   ]
  },
  {
   "cell_type": "code",
   "execution_count": 22,
   "metadata": {
    "colab": {
     "base_uri": "https://localhost:8080/"
    },
    "executionInfo": {
     "elapsed": 8,
     "status": "ok",
     "timestamp": 1733310543555,
     "user": {
      "displayName": "tien san",
      "userId": "04520947246998281854"
     },
     "user_tz": -600
    },
    "id": "0dyvQ8VXIPzN",
    "outputId": "20656c45-e048-4ad7-d5a8-f6f0add6cadb"
   },
   "outputs": [
    {
     "data": {
      "text/plain": [
       "True"
      ]
     },
     "execution_count": 22,
     "metadata": {},
     "output_type": "execute_result"
    }
   ],
   "source": [
    "# Воспользуйтесь этим начальным кодом, чтобы реализовать нужный процедуры\n",
    "\n",
    "def head(pair):\n",
    "    if pair is None:\n",
    "        return None\n",
    "    return pair[0]\n",
    "\n",
    "def tail(pair):\n",
    "    if pair is None:\n",
    "        return None\n",
    "    if len(pair) < 2:\n",
    "        return None\n",
    "    return pair[1]\n",
    "\n",
    "def Seq(*elements):\n",
    "    def first(x):\n",
    "        return x[0]\n",
    "    def other(x):\n",
    "        return x[1:]\n",
    "\n",
    "    if len(elements) == 0:\n",
    "        return None\n",
    "\n",
    "    if len(elements) == 1:\n",
    "        return first(elements), None\n",
    "\n",
    "    if len(elements) == 2:\n",
    "        return first(elements), other(elements)\n",
    "\n",
    "    return first(elements), Seq(*other(elements))\n",
    "\n",
    "s = Seq(1,2,3,4,5)\n",
    "s == (1, (2, (3, (4, (5,)))))\n",
    "head(s) == 1\n",
    "tail(s) == (2, (3, (4, (5,))))"
   ]
  },
  {
   "cell_type": "code",
   "execution_count": 23,
   "metadata": {
    "colab": {
     "base_uri": "https://localhost:8080/"
    },
    "executionInfo": {
     "elapsed": 6,
     "status": "ok",
     "timestamp": 1733310543555,
     "user": {
      "displayName": "tien san",
      "userId": "04520947246998281854"
     },
     "user_tz": -600
    },
    "id": "ip7zPtQAIPzO",
    "outputId": "df350c76-b5a8-46d0-c8d7-db1151043878"
   },
   "outputs": [
    {
     "data": {
      "text/plain": [
       "True"
      ]
     },
     "execution_count": 23,
     "metadata": {},
     "output_type": "execute_result"
    }
   ],
   "source": [
    "def at(seq, index):\n",
    "  if index == 0:\n",
    "      return head(seq)\n",
    "  return at(tail(seq), index - 1)\n",
    "at(Seq(1,2,3), 1) == 2"
   ]
  },
  {
   "cell_type": "code",
   "execution_count": 60,
   "metadata": {
    "colab": {
     "base_uri": "https://localhost:8080/"
    },
    "executionInfo": {
     "elapsed": 302,
     "status": "ok",
     "timestamp": 1733316099676,
     "user": {
      "displayName": "tien san",
      "userId": "04520947246998281854"
     },
     "user_tz": -600
    },
    "id": "sr8WSImNtfY4",
    "outputId": "0536b94b-af32-470e-ffb3-89df82e75588"
   },
   "outputs": [
    {
     "data": {
      "text/plain": [
       "True"
      ]
     },
     "execution_count": 60,
     "metadata": {},
     "output_type": "execute_result"
    }
   ],
   "source": [
    "def size(seq):\n",
    "  if seq is None:\n",
    "    return 0\n",
    "  return 1 + size(tail(seq))\n",
    "size(Seq(1,2)) == 2"
   ]
  },
  {
   "cell_type": "code",
   "execution_count": 25,
   "metadata": {
    "colab": {
     "base_uri": "https://localhost:8080/"
    },
    "executionInfo": {
     "elapsed": 362,
     "status": "ok",
     "timestamp": 1733310543913,
     "user": {
      "displayName": "tien san",
      "userId": "04520947246998281854"
     },
     "user_tz": -600
    },
    "id": "ee0a0B9-tpbA",
    "outputId": "9126d6a4-51ff-4251-f886-be1fc056c9fb"
   },
   "outputs": [
    {
     "data": {
      "text/plain": [
       "True"
      ]
     },
     "execution_count": 25,
     "metadata": {},
     "output_type": "execute_result"
    }
   ],
   "source": [
    "def eq(seq1, seq2):\n",
    "  if seq1 is None and seq2 is None:\n",
    "      return True\n",
    "  if (seq1 is None) and (seq2 is None):\n",
    "      return False\n",
    "  return head(seq1) == head(seq2) and eq(tail(seq1), tail(seq2))\n",
    "\n",
    "eq(Seq(1,2), Seq(1,2))"
   ]
  },
  {
   "cell_type": "code",
   "execution_count": 26,
   "metadata": {
    "colab": {
     "base_uri": "https://localhost:8080/"
    },
    "executionInfo": {
     "elapsed": 11,
     "status": "ok",
     "timestamp": 1733310543913,
     "user": {
      "displayName": "tien san",
      "userId": "04520947246998281854"
     },
     "user_tz": -600
    },
    "id": "yEB4z5GIv9CV",
    "outputId": "0b8831a9-9a3c-4a6f-e9b1-917a7e62d66c"
   },
   "outputs": [
    {
     "data": {
      "text/plain": [
       "False"
      ]
     },
     "execution_count": 26,
     "metadata": {},
     "output_type": "execute_result"
    }
   ],
   "source": [
    "eq(Seq(1,2,3), Seq(1,2))\n"
   ]
  },
  {
   "cell_type": "code",
   "execution_count": 27,
   "metadata": {
    "colab": {
     "base_uri": "https://localhost:8080/"
    },
    "executionInfo": {
     "elapsed": 11,
     "status": "ok",
     "timestamp": 1733310543914,
     "user": {
      "displayName": "tien san",
      "userId": "04520947246998281854"
     },
     "user_tz": -600
    },
    "id": "Eu4_gWx_wkKV",
    "outputId": "377c30a5-a5fd-42d2-8125-165ace0bb640"
   },
   "outputs": [
    {
     "data": {
      "text/plain": [
       "True"
      ]
     },
     "execution_count": 27,
     "metadata": {},
     "output_type": "execute_result"
    }
   ],
   "source": [
    "def tailN(seq, n):\n",
    "  if n == 0 or seq is None:\n",
    "      return seq\n",
    "  return tailN(tail(seq), n - 1)\n",
    "eq(tailN(Seq(1,2,3,4), 2), Seq(3,4))"
   ]
  },
  {
   "cell_type": "code",
   "execution_count": 28,
   "metadata": {
    "colab": {
     "base_uri": "https://localhost:8080/"
    },
    "executionInfo": {
     "elapsed": 10,
     "status": "ok",
     "timestamp": 1733310543914,
     "user": {
      "displayName": "tien san",
      "userId": "04520947246998281854"
     },
     "user_tz": -600
    },
    "id": "uS5W0psQygpX",
    "outputId": "12bfb551-2495-44ec-b614-d7557d6e3f4c"
   },
   "outputs": [
    {
     "data": {
      "text/plain": [
       "(1, (2, (3, (4,))))"
      ]
     },
     "execution_count": 28,
     "metadata": {},
     "output_type": "execute_result"
    }
   ],
   "source": [
    "def concat(seq1, seq2):\n",
    "  if seq1 is None:\n",
    "      return seq2\n",
    "  return head(seq1), concat(tail(seq1), seq2)\n",
    "concat(Seq(1, 2), Seq(3, 4))"
   ]
  },
  {
   "cell_type": "code",
   "execution_count": 29,
   "metadata": {
    "colab": {
     "base_uri": "https://localhost:8080/"
    },
    "executionInfo": {
     "elapsed": 8,
     "status": "ok",
     "timestamp": 1733310543914,
     "user": {
      "displayName": "tien san",
      "userId": "04520947246998281854"
     },
     "user_tz": -600
    },
    "id": "hDA9ydSa01Nz",
    "outputId": "b7c5f0a5-c913-4c87-b67a-eb812a95e2b3"
   },
   "outputs": [
    {
     "name": "stdout",
     "output_type": "stream",
     "text": [
      "1\n",
      "2\n",
      "3\n",
      "4\n"
     ]
    }
   ],
   "source": [
    "def for_each(seq, func):\n",
    "  if seq is not None:\n",
    "      func(head(seq))\n",
    "      for_each(tail(seq), func)\n",
    "\n",
    "for_each(Seq(1,2,3,4), lambda x: print(x))"
   ]
  },
  {
   "cell_type": "code",
   "execution_count": 30,
   "metadata": {
    "colab": {
     "base_uri": "https://localhost:8080/"
    },
    "executionInfo": {
     "elapsed": 7,
     "status": "ok",
     "timestamp": 1733310543914,
     "user": {
      "displayName": "tien san",
      "userId": "04520947246998281854"
     },
     "user_tz": -600
    },
    "id": "iKRrsD851Nzd",
    "outputId": "948c86c7-39e0-40a1-b5f0-8aae328d5ffa"
   },
   "outputs": [
    {
     "name": "stdout",
     "output_type": "stream",
     "text": [
      "0 1\n",
      "1 2\n",
      "2 3\n",
      "3 4\n"
     ]
    }
   ],
   "source": [
    "def for_each_indexed(seq, func, index=0):\n",
    "    if seq is not None:\n",
    "        func(index, head(seq))\n",
    "        for_each_indexed(tail(seq), func, index + 1)\n",
    "\n",
    "for_each_indexed(Seq(1,2,3,4), lambda i, x: print(i, x))"
   ]
  },
  {
   "cell_type": "code",
   "execution_count": 85,
   "metadata": {
    "colab": {
     "base_uri": "https://localhost:8080/"
    },
    "executionInfo": {
     "elapsed": 306,
     "status": "ok",
     "timestamp": 1733316884049,
     "user": {
      "displayName": "tien san",
      "userId": "04520947246998281854"
     },
     "user_tz": -600
    },
    "id": "0Axd_XqE1rB2",
    "outputId": "d7f60096-a9ec-4096-97dc-63c926bc33a5"
   },
   "outputs": [
    {
     "data": {
      "text/plain": [
       "True"
      ]
     },
     "execution_count": 85,
     "metadata": {},
     "output_type": "execute_result"
    }
   ],
   "source": [
    "def map(seq, func):\n",
    "  if tail(seq) is None:\n",
    "      return (func(head(seq)),)\n",
    "  return func(head(seq)), map(tail(seq), func)\n",
    "\n",
    "\n",
    "map(Seq(1,2,3,4), lambda x: x**2) == Seq(1,4,9,16)"
   ]
  },
  {
   "cell_type": "code",
   "execution_count": 80,
   "metadata": {
    "colab": {
     "base_uri": "https://localhost:8080/"
    },
    "executionInfo": {
     "elapsed": 304,
     "status": "ok",
     "timestamp": 1733316832226,
     "user": {
      "displayName": "tien san",
      "userId": "04520947246998281854"
     },
     "user_tz": -600
    },
    "id": "sUbe8BD-74w6",
    "outputId": "3299cf91-3d28-4180-b72d-76f3b931ed07"
   },
   "outputs": [
    {
     "data": {
      "text/plain": [
       "True"
      ]
     },
     "execution_count": 80,
     "metadata": {},
     "output_type": "execute_result"
    }
   ],
   "source": [
    "def filter(seq, predicate):\n",
    "    if tail(seq) is None:\n",
    "        return None\n",
    "    if predicate(head(seq)) :\n",
    "      a = head(seq), filter(tail(seq), predicate)\n",
    "      if a[1] is not None:\n",
    "        return a\n",
    "      else:\n",
    "        return (a[0],)\n",
    "\n",
    "    return filter(tail(seq), predicate)\n",
    "filter(Seq(1,2,3,4),lambda x: x%2==1) == Seq(1,3)"
   ]
  },
  {
   "cell_type": "code",
   "execution_count": 87,
   "metadata": {
    "colab": {
     "base_uri": "https://localhost:8080/"
    },
    "executionInfo": {
     "elapsed": 443,
     "status": "ok",
     "timestamp": 1733317030633,
     "user": {
      "displayName": "tien san",
      "userId": "04520947246998281854"
     },
     "user_tz": -600
    },
    "id": "_i-GVtqI75w7",
    "outputId": "19f8f9b7-0e26-44d1-df11-63bf3ce4fc97"
   },
   "outputs": [
    {
     "data": {
      "text/plain": [
       "True"
      ]
     },
     "execution_count": 87,
     "metadata": {},
     "output_type": "execute_result"
    }
   ],
   "source": [
    "def reduce(s, value, func):\n",
    "    if s is None:\n",
    "        return value\n",
    "    return reduce(tail(s), func(value, head(s)), func)\n",
    "reduce(Seq(1,2,3,4), 0, lambda acc, cur: acc+cur) == 0+1+2+3+4==10"
   ]
  },
  {
   "cell_type": "code",
   "execution_count": 34,
   "metadata": {
    "colab": {
     "base_uri": "https://localhost:8080/"
    },
    "executionInfo": {
     "elapsed": 6,
     "status": "ok",
     "timestamp": 1733310544284,
     "user": {
      "displayName": "tien san",
      "userId": "04520947246998281854"
     },
     "user_tz": -600
    },
    "id": "U_sqbtLf77Bs",
    "outputId": "22992a53-b162-4355-f104-cd883c4c4024"
   },
   "outputs": [
    {
     "data": {
      "text/plain": [
       "True"
      ]
     },
     "execution_count": 34,
     "metadata": {},
     "output_type": "execute_result"
    }
   ],
   "source": [
    "def list(seq):\n",
    "    return reduce(seq, [], lambda acc, cur: acc + [cur])\n",
    "list(Seq(1,2,3,4)) == [1,2,3,4]"
   ]
  },
  {
   "cell_type": "code",
   "execution_count": 98,
   "metadata": {
    "colab": {
     "base_uri": "https://localhost:8080/"
    },
    "executionInfo": {
     "elapsed": 314,
     "status": "ok",
     "timestamp": 1733317366059,
     "user": {
      "displayName": "tien san",
      "userId": "04520947246998281854"
     },
     "user_tz": -600
    },
    "id": "ts3L8S4877rk",
    "outputId": "646b7edf-f6a5-4eac-ea79-31096478c6a2"
   },
   "outputs": [
    {
     "data": {
      "text/plain": [
       "True"
      ]
     },
     "execution_count": 98,
     "metadata": {},
     "output_type": "execute_result"
    }
   ],
   "source": [
    "def flat_map(seq, func):\n",
    "    if seq is None:\n",
    "        return None\n",
    "    a = flat_map(tail(seq), func)\n",
    "    if a is None:\n",
    "        return func(head(seq))\n",
    "    else:\n",
    "      return concat(func(head(seq)), a)\n",
    "flat_map(Seq(1,2,3), lambda x: Seq(x, x + 10)) == Seq(1, 11, 2, 12, 3, 13)"
   ]
  }
 ],
 "metadata": {
  "colab": {
   "provenance": []
  },
  "kernelspec": {
   "display_name": "Python 3",
   "language": "python",
   "name": "python3"
  },
  "language_info": {
   "codemirror_mode": {
    "name": "ipython",
    "version": 3
   },
   "file_extension": ".py",
   "mimetype": "text/x-python",
   "name": "python",
   "nbconvert_exporter": "python",
   "pygments_lexer": "ipython3",
   "version": "3.10.6"
  },
  "widgets": {
   "application/vnd.jupyter.widget-state+json": {
    "16ce3ff11d4a481ea7b1b988d8e31f2c": {
     "model_module": "@jupyter-widgets/controls",
     "model_module_version": "1.5.0",
     "model_name": "TextModel",
     "state": {
      "_dom_classes": [],
      "_model_module": "@jupyter-widgets/controls",
      "_model_module_version": "1.5.0",
      "_model_name": "TextModel",
      "_view_count": null,
      "_view_module": "@jupyter-widgets/controls",
      "_view_module_version": "1.5.0",
      "_view_name": "TextView",
      "continuous_update": true,
      "description": "",
      "description_tooltip": null,
      "disabled": false,
      "layout": "IPY_MODEL_cf58ddade00b4bdca67bd2231e6dc4e4",
      "placeholder": "тут текст",
      "style": "IPY_MODEL_80d05574cdfb40eb8f147f5e331599f9",
      "value": ""
     }
    },
    "80d05574cdfb40eb8f147f5e331599f9": {
     "model_module": "@jupyter-widgets/controls",
     "model_module_version": "1.5.0",
     "model_name": "DescriptionStyleModel",
     "state": {
      "_model_module": "@jupyter-widgets/controls",
      "_model_module_version": "1.5.0",
      "_model_name": "DescriptionStyleModel",
      "_view_count": null,
      "_view_module": "@jupyter-widgets/base",
      "_view_module_version": "1.2.0",
      "_view_name": "StyleView",
      "description_width": ""
     }
    },
    "cf58ddade00b4bdca67bd2231e6dc4e4": {
     "model_module": "@jupyter-widgets/base",
     "model_module_version": "1.2.0",
     "model_name": "LayoutModel",
     "state": {
      "_model_module": "@jupyter-widgets/base",
      "_model_module_version": "1.2.0",
      "_model_name": "LayoutModel",
      "_view_count": null,
      "_view_module": "@jupyter-widgets/base",
      "_view_module_version": "1.2.0",
      "_view_name": "LayoutView",
      "align_content": null,
      "align_items": null,
      "align_self": null,
      "border": null,
      "bottom": null,
      "display": null,
      "flex": null,
      "flex_flow": null,
      "grid_area": null,
      "grid_auto_columns": null,
      "grid_auto_flow": null,
      "grid_auto_rows": null,
      "grid_column": null,
      "grid_gap": null,
      "grid_row": null,
      "grid_template_areas": null,
      "grid_template_columns": null,
      "grid_template_rows": null,
      "height": null,
      "justify_content": null,
      "justify_items": null,
      "left": null,
      "margin": null,
      "max_height": null,
      "max_width": null,
      "min_height": null,
      "min_width": null,
      "object_fit": null,
      "object_position": null,
      "order": null,
      "overflow": null,
      "overflow_x": null,
      "overflow_y": null,
      "padding": null,
      "right": null,
      "top": null,
      "visibility": null,
      "width": null
     }
    }
   }
  }
 },
 "nbformat": 4,
 "nbformat_minor": 0
}
