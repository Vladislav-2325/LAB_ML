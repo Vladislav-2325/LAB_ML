{
 "cells": [
  {
   "cell_type": "markdown",
   "metadata": {
    "id": "-eim14QhIPlB"
   },
   "source": [
    "# Домашнее задание по настройке окружения\n",
    "\n",
    "1. Установите Linux на свой компьютер, используя [инструкции из теории](01_linux/01_tt_linux_setup.md).\n",
    "2. Установите [Базовые программы](01_linux/03_tt_install_utils.md).\n",
    "3. Установите [python с помощью pyenv](03_python_setup/01_tt_pyenv.md).\n",
    "4. Установите пакеты через pip, как написано в [тут](03_python_setup/02_tt_pip.md).\n",
    "4. Получите доступ к вашему репозиторию в gitlab. Если для вас не появился репозиторий, то срочно уведомите преподавателя.\n",
    "5. Склонируйте к себе этот репозитоий. Там уже настроена базовая структура проекта. Дополнительно про струткуру python проекта читайте [тут](01_tt_project_structure.md).\n",
    "6. Создайте отдельную ветку `00_environment_setup`.\n",
    "7. Настройте gitignore, editorconfig, requirements файлы, как [в материалах](01_tt_project_structure.md).\n",
    "8. Скачайте этот файл и выполните все ячейки.\n",
    "\n",
    "Если вы собираетесь работать весь курс в google colab, то задание 1, 2, 3 не обязательные. Задание 4 и 8 надо делать в google colab.\n",
    "\n",
    "В гугл колабе пакеты ставятся через `!pip instal .... и тут пакеты ....`"
   ]
  },
  {
   "cell_type": "code",
   "execution_count": 1,
   "metadata": {
    "colab": {
     "base_uri": "https://localhost:8080/"
    },
    "executionInfo": {
     "elapsed": 305,
     "status": "ok",
     "timestamp": 1733038855933,
     "user": {
      "displayName": "tien san",
      "userId": "04520947246998281854"
     },
     "user_tz": -600
    },
    "id": "QrnlL2xOIPlC",
    "outputId": "b2bbe5ee-783e-4971-ac0d-0a142af214f1"
   },
   "outputs": [
    {
     "name": "stdout",
     "output_type": "stream",
     "text": [
      "/c/Python/Scripts/pip\n"
     ]
    }
   ],
   "source": [
    "!which pip"
   ]
  },
  {
   "cell_type": "code",
   "execution_count": 2,
   "metadata": {
    "colab": {
     "base_uri": "https://localhost:8080/"
    },
    "executionInfo": {
     "elapsed": 4,
     "status": "ok",
     "timestamp": 1733038856249,
     "user": {
      "displayName": "tien san",
      "userId": "04520947246998281854"
     },
     "user_tz": -600
    },
    "id": "LbSc76zoIPlD",
    "outputId": "dd25f78f-b442-450e-9756-384ec6422cdb"
   },
   "outputs": [
    {
     "name": "stdout",
     "output_type": "stream",
     "text": [
      "/c/Python/python\n"
     ]
    }
   ],
   "source": [
    "!which python"
   ]
  },
  {
   "cell_type": "code",
   "execution_count": 3,
   "metadata": {
    "colab": {
     "base_uri": "https://localhost:8080/"
    },
    "executionInfo": {
     "elapsed": 356,
     "status": "ok",
     "timestamp": 1733038856603,
     "user": {
      "displayName": "tien san",
      "userId": "04520947246998281854"
     },
     "user_tz": -600
    },
    "id": "ISOMJtlEIPlD",
    "outputId": "d5774e96-d4aa-4c09-b8b4-87f7f1607e25"
   },
   "outputs": [
    {
     "name": "stdout",
     "output_type": "stream",
     "text": [
      "Python 3.10.6\n"
     ]
    }
   ],
   "source": [
    "!python --version"
   ]
  },
  {
   "cell_type": "code",
   "execution_count": 14,
   "metadata": {
    "executionInfo": {
     "elapsed": 16,
     "status": "ok",
     "timestamp": 1733038856603,
     "user": {
      "displayName": "tien san",
      "userId": "04520947246998281854"
     },
     "user_tz": -600
    },
    "id": "-IFNoO8PIPlD"
   },
   "outputs": [],
   "source": [
    "import numpy as np\n",
    "import pandas as pd\n",
    "import matplotlib\n",
    "import seaborn as sns\n",
    "import sklearn\n",
    "import IPython\n",
    "import PIL\n"
   ]
  },
  {
   "cell_type": "code",
   "execution_count": 15,
   "metadata": {
    "colab": {
     "base_uri": "https://localhost:8080/",
     "height": 35
    },
    "executionInfo": {
     "elapsed": 16,
     "status": "ok",
     "timestamp": 1733038856603,
     "user": {
      "displayName": "tien san",
      "userId": "04520947246998281854"
     },
     "user_tz": -600
    },
    "id": "mfq7Ko-xIPlE",
    "outputId": "7abe88c6-a15e-471f-9251-350c29b9ac3d"
   },
   "outputs": [
    {
     "data": {
      "application/vnd.google.colaboratory.intrinsic+json": {
       "type": "string"
      },
      "text/plain": [
       "'1.26.4'"
      ]
     },
     "execution_count": 15,
     "metadata": {},
     "output_type": "execute_result"
    }
   ],
   "source": [
    "np.__version__"
   ]
  },
  {
   "cell_type": "code",
   "execution_count": 16,
   "metadata": {
    "colab": {
     "base_uri": "https://localhost:8080/",
     "height": 35
    },
    "executionInfo": {
     "elapsed": 14,
     "status": "ok",
     "timestamp": 1733038856603,
     "user": {
      "displayName": "tien san",
      "userId": "04520947246998281854"
     },
     "user_tz": -600
    },
    "id": "k_4vHKFPIPlE",
    "outputId": "5f1b387d-f189-447f-b5a4-527e6917b157"
   },
   "outputs": [
    {
     "data": {
      "application/vnd.google.colaboratory.intrinsic+json": {
       "type": "string"
      },
      "text/plain": [
       "'2.2.2'"
      ]
     },
     "execution_count": 16,
     "metadata": {},
     "output_type": "execute_result"
    }
   ],
   "source": [
    "pd.__version__"
   ]
  },
  {
   "cell_type": "code",
   "execution_count": 17,
   "metadata": {
    "colab": {
     "base_uri": "https://localhost:8080/",
     "height": 35
    },
    "executionInfo": {
     "elapsed": 13,
     "status": "ok",
     "timestamp": 1733038856603,
     "user": {
      "displayName": "tien san",
      "userId": "04520947246998281854"
     },
     "user_tz": -600
    },
    "id": "7BwazLMrIPlE",
    "outputId": "acfb884b-5af0-487a-d3c8-35bf2746f110"
   },
   "outputs": [
    {
     "data": {
      "application/vnd.google.colaboratory.intrinsic+json": {
       "type": "string"
      },
      "text/plain": [
       "'3.8.0'"
      ]
     },
     "execution_count": 17,
     "metadata": {},
     "output_type": "execute_result"
    }
   ],
   "source": [
    "matplotlib.__version__"
   ]
  },
  {
   "cell_type": "code",
   "execution_count": 18,
   "metadata": {
    "colab": {
     "base_uri": "https://localhost:8080/",
     "height": 35
    },
    "executionInfo": {
     "elapsed": 12,
     "status": "ok",
     "timestamp": 1733038856603,
     "user": {
      "displayName": "tien san",
      "userId": "04520947246998281854"
     },
     "user_tz": -600
    },
    "id": "rouPHozmIPlE",
    "outputId": "f97819ad-0737-45e1-85be-c0df6965c7d0"
   },
   "outputs": [
    {
     "data": {
      "application/vnd.google.colaboratory.intrinsic+json": {
       "type": "string"
      },
      "text/plain": [
       "'0.13.2'"
      ]
     },
     "execution_count": 18,
     "metadata": {},
     "output_type": "execute_result"
    }
   ],
   "source": [
    "sns.__version__"
   ]
  },
  {
   "cell_type": "code",
   "execution_count": 19,
   "metadata": {
    "colab": {
     "base_uri": "https://localhost:8080/",
     "height": 35
    },
    "executionInfo": {
     "elapsed": 11,
     "status": "ok",
     "timestamp": 1733038856603,
     "user": {
      "displayName": "tien san",
      "userId": "04520947246998281854"
     },
     "user_tz": -600
    },
    "id": "IaalZLwNIPlF",
    "outputId": "dead6ecb-da97-43ac-da78-c0deeb519aa1"
   },
   "outputs": [
    {
     "data": {
      "application/vnd.google.colaboratory.intrinsic+json": {
       "type": "string"
      },
      "text/plain": [
       "'1.5.2'"
      ]
     },
     "execution_count": 19,
     "metadata": {},
     "output_type": "execute_result"
    }
   ],
   "source": [
    "sklearn.__version__"
   ]
  },
  {
   "cell_type": "code",
   "execution_count": 20,
   "metadata": {
    "colab": {
     "base_uri": "https://localhost:8080/",
     "height": 35
    },
    "executionInfo": {
     "elapsed": 11,
     "status": "ok",
     "timestamp": 1733038856603,
     "user": {
      "displayName": "tien san",
      "userId": "04520947246998281854"
     },
     "user_tz": -600
    },
    "id": "00417dZDIPlF",
    "outputId": "0da77b2c-05ca-4dc1-eae3-44afb336f113"
   },
   "outputs": [
    {
     "data": {
      "application/vnd.google.colaboratory.intrinsic+json": {
       "type": "string"
      },
      "text/plain": [
       "'11.0.0'"
      ]
     },
     "execution_count": 20,
     "metadata": {},
     "output_type": "execute_result"
    }
   ],
   "source": [
    "PIL.__version__"
   ]
  },
  {
   "cell_type": "code",
   "execution_count": 4,
   "metadata": {
    "colab": {
     "base_uri": "https://localhost:8080/",
     "height": 185
    },
    "executionInfo": {
     "elapsed": 318,
     "status": "ok",
     "timestamp": 1733038962741,
     "user": {
      "displayName": "tien san",
      "userId": "04520947246998281854"
     },
     "user_tz": -600
    },
    "id": "K-bX-Kw3IPlF",
    "outputId": "e06fd451-b3d9-42e9-a407-5cfdb2ee935b"
   },
   "outputs": [
    {
     "ename": "NameError",
     "evalue": "name 'IPython' is not defined",
     "output_type": "error",
     "traceback": [
      "\u001b[1;31m---------------------------------------------------------------------------\u001b[0m",
      "\u001b[1;31mNameError\u001b[0m                                 Traceback (most recent call last)",
      "Cell \u001b[1;32mIn[4], line 1\u001b[0m\n\u001b[1;32m----> 1\u001b[0m \u001b[43mIPython\u001b[49m\u001b[38;5;241m.\u001b[39mdisplay\u001b[38;5;241m.\u001b[39mImage(\u001b[38;5;124m\"\u001b[39m\u001b[38;5;124mjackieChun.png\u001b[39m\u001b[38;5;124m\"\u001b[39m)\n",
      "\u001b[1;31mNameError\u001b[0m: name 'IPython' is not defined"
     ]
    }
   ],
   "source": [
    "IPython.display.Image(\"jackieChun.png\")"
   ]
  }
 ],
 "metadata": {
  "colab": {
   "provenance": []
  },
  "kernelspec": {
   "display_name": "Python 3",
   "language": "python",
   "name": "python3"
  },
  "language_info": {
   "codemirror_mode": {
    "name": "ipython",
    "version": 3
   },
   "file_extension": ".py",
   "mimetype": "text/x-python",
   "name": "python",
   "nbconvert_exporter": "python",
   "pygments_lexer": "ipython3",
   "version": "3.10.6"
  }
 },
 "nbformat": 4,
 "nbformat_minor": 0
}
