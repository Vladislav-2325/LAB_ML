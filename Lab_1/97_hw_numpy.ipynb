{
 "cells": [
  {
   "cell_type": "markdown",
   "metadata": {
    "id": "1q_hVbDGTcn7"
   },
   "source": [
    "# Worshop 2.1 Numpy\n",
    "\n",
    "1. Скачайте этот ноутбук к себе.\n",
    "2. Заполните пропущенные ячейки, отвечая на заданные вопросы. Там должен быть код! (если не сказано обратное)\n",
    "3. Сохраните результат в своём гитхаб репозитории.\n",
    "\n",
    "#### Полезная литература\n",
    "\n",
    "- http://www.numpy.org/\n",
    "- https://jakevdp.github.io/PythonDataScienceHandbook/02.00-introduction-to-numpy.html\n",
    "- https://docs.scipy.org/doc/numpy/user/quickstart.html"
   ]
  },
  {
   "cell_type": "markdown",
   "metadata": {
    "id": "YULy30skTcn9"
   },
   "source": [
    "1) Импортировать numpy и написать версию"
   ]
  },
  {
   "cell_type": "code",
   "execution_count": 1,
   "metadata": {
    "colab": {
     "base_uri": "https://localhost:8080/"
    },
    "executionInfo": {
     "elapsed": 470,
     "status": "ok",
     "timestamp": 1733028278219,
     "user": {
      "displayName": "tien san",
      "userId": "04520947246998281854"
     },
     "user_tz": -600
    },
    "id": "HyeZERPITcn9",
    "outputId": "c048cdda-e889-43bc-e251-7336598f97a2"
   },
   "outputs": [
    {
     "name": "stdout",
     "output_type": "stream",
     "text": [
      "1.26.4\n"
     ]
    }
   ],
   "source": [
    "import numpy as np\n",
    "print(np.__version__)"
   ]
  },
  {
   "cell_type": "markdown",
   "metadata": {
    "id": "9ETD6eQOTcn9"
   },
   "source": [
    "2) Создать нулевой вектор размера 10"
   ]
  },
  {
   "cell_type": "code",
   "execution_count": 2,
   "metadata": {
    "colab": {
     "base_uri": "https://localhost:8080/"
    },
    "executionInfo": {
     "elapsed": 3,
     "status": "ok",
     "timestamp": 1733028278612,
     "user": {
      "displayName": "tien san",
      "userId": "04520947246998281854"
     },
     "user_tz": -600
    },
    "id": "SbDlMPesTcn9",
    "outputId": "9eb4c2f4-ffa1-40a4-dd1c-65a6934762ea"
   },
   "outputs": [
    {
     "data": {
      "text/plain": [
       "array([0., 0., 0., 0., 0., 0., 0., 0., 0., 0.])"
      ]
     },
     "execution_count": 2,
     "metadata": {},
     "output_type": "execute_result"
    }
   ],
   "source": [
    "np.zeros(10)"
   ]
  },
  {
   "cell_type": "markdown",
   "metadata": {
    "id": "vC7gY2QcTcn-"
   },
   "source": [
    "3) Создать вектор заполненный 7-ами размера 7"
   ]
  },
  {
   "cell_type": "code",
   "execution_count": 3,
   "metadata": {
    "colab": {
     "base_uri": "https://localhost:8080/"
    },
    "executionInfo": {
     "elapsed": 2,
     "status": "ok",
     "timestamp": 1733028278612,
     "user": {
      "displayName": "tien san",
      "userId": "04520947246998281854"
     },
     "user_tz": -600
    },
    "id": "a6l29ExETcn-",
    "outputId": "1fe65d60-91ef-4590-83b6-4f9362936683"
   },
   "outputs": [
    {
     "data": {
      "text/plain": [
       "array([7, 7, 7, 7, 7, 7, 7])"
      ]
     },
     "execution_count": 3,
     "metadata": {},
     "output_type": "execute_result"
    }
   ],
   "source": [
    "np.full(7, 7)"
   ]
  },
  {
   "cell_type": "markdown",
   "metadata": {
    "id": "q5Hh0QPITcn-"
   },
   "source": [
    "4) Создать вектор заполненный четными числами от 10 до 100"
   ]
  },
  {
   "cell_type": "code",
   "execution_count": 4,
   "metadata": {
    "colab": {
     "base_uri": "https://localhost:8080/"
    },
    "executionInfo": {
     "elapsed": 1,
     "status": "ok",
     "timestamp": 1733028278612,
     "user": {
      "displayName": "tien san",
      "userId": "04520947246998281854"
     },
     "user_tz": -600
    },
    "id": "RbT4ed-gTcn-",
    "outputId": "9e9c9f70-b2ad-4aae-c4c1-45cb25862fa1"
   },
   "outputs": [
    {
     "data": {
      "text/plain": [
       "array([10, 12, 14, 16, 18, 20, 22, 24, 26, 28, 30, 32, 34, 36, 38, 40, 42,\n",
       "       44, 46, 48, 50, 52, 54, 56, 58, 60, 62, 64, 66, 68, 70, 72, 74, 76,\n",
       "       78, 80, 82, 84, 86, 88, 90, 92, 94, 96, 98])"
      ]
     },
     "execution_count": 4,
     "metadata": {},
     "output_type": "execute_result"
    }
   ],
   "source": [
    "np.arange(10, 100, 2)"
   ]
  },
  {
   "cell_type": "markdown",
   "metadata": {
    "id": "LZmWNmegTcn-"
   },
   "source": [
    "5) Создать массив случайных чисел и развернуть его задом наперёд"
   ]
  },
  {
   "cell_type": "code",
   "execution_count": 5,
   "metadata": {
    "colab": {
     "base_uri": "https://localhost:8080/"
    },
    "executionInfo": {
     "elapsed": 336,
     "status": "ok",
     "timestamp": 1733028288637,
     "user": {
      "displayName": "tien san",
      "userId": "04520947246998281854"
     },
     "user_tz": -600
    },
    "id": "wBg8ViiETcn-",
    "outputId": "f131dac8-d07a-4771-b7ee-42bd7eb09078"
   },
   "outputs": [
    {
     "name": "stdout",
     "output_type": "stream",
     "text": [
      "[0.9793159  0.44997376 0.08184689 0.73802885]\n"
     ]
    },
    {
     "data": {
      "text/plain": [
       "array([0.73802885, 0.08184689, 0.44997376, 0.9793159 ])"
      ]
     },
     "execution_count": 5,
     "metadata": {},
     "output_type": "execute_result"
    }
   ],
   "source": [
    "tmp = np.random.random_sample(4)\n",
    "print (tmp)\n",
    "np.flip(tmp)"
   ]
  },
  {
   "cell_type": "markdown",
   "metadata": {
    "id": "vVYVgUN9Tcn-"
   },
   "source": [
    "6) Создать двумерную матрицу размера 3 на 3, заполненную числами от 0 до 9"
   ]
  },
  {
   "cell_type": "code",
   "execution_count": 6,
   "metadata": {
    "colab": {
     "base_uri": "https://localhost:8080/"
    },
    "id": "eOD3uyKuTcn-",
    "outputId": "85ae5847-4587-429a-c6a0-0b9d287a6a19"
   },
   "outputs": [
    {
     "data": {
      "text/plain": [
       "array([[0, 1, 2],\n",
       "       [3, 4, 5],\n",
       "       [6, 7, 8]])"
      ]
     },
     "execution_count": 6,
     "metadata": {},
     "output_type": "execute_result"
    }
   ],
   "source": [
    "np.arange(9).reshape(3,3)"
   ]
  },
  {
   "cell_type": "markdown",
   "metadata": {
    "id": "rtTHfkobTcn_"
   },
   "source": [
    "7) Создать матрицу размера 4 на 4 с единицами на диагонали смещеной на один наверх."
   ]
  },
  {
   "cell_type": "code",
   "execution_count": 7,
   "metadata": {
    "colab": {
     "base_uri": "https://localhost:8080/"
    },
    "id": "D2PWlOMLTcn_",
    "outputId": "705f83a5-f1a3-4369-f18d-b0b58a617647"
   },
   "outputs": [
    {
     "data": {
      "text/plain": [
       "array([[0., 1., 0., 0.],\n",
       "       [0., 0., 1., 0.],\n",
       "       [0., 0., 0., 1.],\n",
       "       [0., 0., 0., 0.]])"
      ]
     },
     "execution_count": 7,
     "metadata": {},
     "output_type": "execute_result"
    }
   ],
   "source": [
    "np.eye(4, k=1)"
   ]
  },
  {
   "cell_type": "markdown",
   "metadata": {
    "id": "VluV-7-JTcn_"
   },
   "source": [
    "8) Создать матрицу с числами в диапазоне от 1 до 4 по диагонали. В других ячейках матрицы должны быть семерки."
   ]
  },
  {
   "cell_type": "code",
   "execution_count": 8,
   "metadata": {
    "colab": {
     "base_uri": "https://localhost:8080/"
    },
    "id": "vOAR5I86Tcn_",
    "outputId": "0a96f32c-1259-415f-b3a2-35f6e0324604"
   },
   "outputs": [
    {
     "data": {
      "text/plain": [
       "array([[1, 7, 7, 7],\n",
       "       [7, 2, 7, 7],\n",
       "       [7, 7, 3, 7],\n",
       "       [7, 7, 7, 4]])"
      ]
     },
     "execution_count": 8,
     "metadata": {},
     "output_type": "execute_result"
    }
   ],
   "source": [
    "tmp = np.diag([1, 2, 3, 4])\n",
    "tmp[tmp == 0] = 7\n",
    "tmp"
   ]
  },
  {
   "cell_type": "markdown",
   "metadata": {
    "id": "FzZFeI--Tcn_"
   },
   "source": [
    "9) Создать матрицу размера 5 на 5 заполненную чилами от 0 до 4 в строках."
   ]
  },
  {
   "cell_type": "code",
   "execution_count": 10,
   "metadata": {
    "colab": {
     "base_uri": "https://localhost:8080/"
    },
    "id": "Pr-OuLTjTcn_",
    "outputId": "e9a45861-bda1-45d1-c2f6-353d19e3240e"
   },
   "outputs": [
    {
     "data": {
      "text/plain": [
       "array([[0, 1, 2, 3, 4],\n",
       "       [0, 1, 2, 3, 4],\n",
       "       [0, 1, 2, 3, 4],\n",
       "       [0, 1, 2, 3, 4],\n",
       "       [0, 1, 2, 3, 4]], dtype=int32)"
      ]
     },
     "execution_count": 10,
     "metadata": {},
     "output_type": "execute_result"
    }
   ],
   "source": [
    "(np.arange(25)%5).reshape(5,5)"
   ]
  },
  {
   "cell_type": "markdown",
   "metadata": {
    "id": "v3do9YHVTcn_"
   },
   "source": [
    "10) Создать матрицу случайных чисел размера 10 на 10 и отнять среднее по строкам из каждого элемента строки"
   ]
  },
  {
   "cell_type": "code",
   "execution_count": 11,
   "metadata": {
    "colab": {
     "base_uri": "https://localhost:8080/"
    },
    "id": "6jde_aUXTcn_",
    "outputId": "e4fadcf3-35a5-4576-f6b9-aca1768efdb5"
   },
   "outputs": [
    {
     "name": "stdout",
     "output_type": "stream",
     "text": [
      "[[6.22039880e-01 2.28609828e-01 5.17476017e-01 3.89949395e-01\n",
      "  1.16460811e-01 1.45997384e-01 6.54956074e-01 1.87263960e-01\n",
      "  8.29425764e-01 3.63722567e-01]\n",
      " [5.32628183e-01 3.62995343e-01 9.96790514e-01 8.82286788e-02\n",
      "  9.18355299e-01 3.05078004e-01 1.44630203e-01 8.45223400e-01\n",
      "  1.85604290e-01 9.99577446e-01]\n",
      " [4.15340895e-01 1.54499273e-02 6.48504501e-01 8.35612718e-01\n",
      "  9.75457566e-01 1.91676311e-01 2.02041903e-01 8.00349207e-01\n",
      "  3.23708822e-01 9.53809473e-02]\n",
      " [7.26507792e-01 4.33074209e-01 7.39301485e-01 7.78167795e-02\n",
      "  6.47969291e-01 4.29899278e-01 6.28023583e-01 8.14008248e-01\n",
      "  5.04350029e-01 5.14604655e-01]\n",
      " [7.62745096e-01 9.78889472e-01 9.52133491e-01 8.38046989e-01\n",
      "  8.79614532e-01 7.09433151e-01 3.86643053e-01 5.35217670e-01\n",
      "  3.38672859e-01 6.04827614e-01]\n",
      " [7.04080416e-01 5.65664485e-01 6.88357916e-01 1.94579868e-01\n",
      "  4.51693002e-01 6.50505603e-01 3.13363499e-01 9.57684471e-01\n",
      "  9.44729570e-01 7.17769590e-01]\n",
      " [6.17131352e-01 5.49186682e-01 4.01715085e-01 9.82603070e-01\n",
      "  1.72818605e-02 7.85577161e-04 8.26840912e-01 5.51019202e-01\n",
      "  9.23237758e-01 9.91936483e-02]\n",
      " [3.93139255e-01 1.95341115e-01 5.70684983e-01 2.15450528e-01\n",
      "  8.10138173e-01 2.33690249e-02 9.53755564e-02 7.61975473e-01\n",
      "  6.98375407e-01 4.44876607e-01]\n",
      " [9.10650362e-01 9.06463464e-01 7.44574717e-01 2.20068094e-01\n",
      "  7.62879865e-01 9.33851127e-01 6.99636414e-01 5.69490184e-01\n",
      "  3.35216846e-01 5.11308890e-01]\n",
      " [5.78607445e-01 7.10970633e-01 9.82460548e-01 4.23302158e-01\n",
      "  9.48715493e-01 4.45384253e-01 4.69386932e-01 5.47831744e-01\n",
      "  2.20809774e-01 4.99749651e-02]]\n"
     ]
    },
    {
     "data": {
      "text/plain": [
       "array([[ 0.21644971, -0.17698034,  0.11188585, -0.01564077, -0.28912936,\n",
       "        -0.25959278,  0.24936591, -0.21832621,  0.4238356 , -0.0418676 ],\n",
       "       [-0.00528295, -0.17491579,  0.45887938, -0.44968246,  0.38044416,\n",
       "        -0.23283313, -0.39328093,  0.30731226, -0.35230685,  0.46166631],\n",
       "       [-0.03501139, -0.43490235,  0.19815222,  0.38526044,  0.52510529,\n",
       "        -0.25867597, -0.24831038,  0.34999693, -0.12664346, -0.35497133],\n",
       "       [ 0.17495226, -0.11848133,  0.18774595, -0.47373876,  0.09641376,\n",
       "        -0.12165626,  0.07646805,  0.26245271, -0.04720551, -0.03695088],\n",
       "       [ 0.0641227 ,  0.28026708,  0.2535111 ,  0.1394246 ,  0.18099214,\n",
       "         0.01081076, -0.31197934, -0.16340472, -0.35994953, -0.09379478],\n",
       "       [ 0.08523757, -0.05317836,  0.06951507, -0.42426297, -0.16714984,\n",
       "         0.03166276, -0.30547934,  0.33884163,  0.32588673,  0.09892675],\n",
       "       [ 0.12023184,  0.05228717, -0.09518443,  0.48570355, -0.47961765,\n",
       "        -0.49611394,  0.3299414 ,  0.05411969,  0.42633824, -0.39770587],\n",
       "       [-0.02773336, -0.2255315 ,  0.14981237, -0.20542208,  0.38926556,\n",
       "        -0.39750359, -0.32549706,  0.34110286,  0.27750279,  0.02400399],\n",
       "       [ 0.25123637,  0.24704947,  0.08516072, -0.4393459 ,  0.10346587,\n",
       "         0.27443713,  0.04022242, -0.08992381, -0.32419715, -0.14810511],\n",
       "       [ 0.04086305,  0.17322624,  0.44471615, -0.11444224,  0.4109711 ,\n",
       "        -0.09236014, -0.06835746,  0.01008735, -0.31693462, -0.48776943]])"
      ]
     },
     "execution_count": 11,
     "metadata": {},
     "output_type": "execute_result"
    }
   ],
   "source": [
    "tmp = np.random.random_sample((10,10))\n",
    "print(tmp)\n",
    "tmp - tmp.mean(axis = 1, keepdims=True)"
   ]
  },
  {
   "cell_type": "markdown",
   "metadata": {
    "id": "dCX7glkCTcn_"
   },
   "source": [
    "11) Создать матрицу случайных чисел размера 10 на 10 и отнять медиану по столбцам из каждого элемента столбца  "
   ]
  },
  {
   "cell_type": "code",
   "execution_count": 12,
   "metadata": {
    "colab": {
     "base_uri": "https://localhost:8080/"
    },
    "executionInfo": {
     "elapsed": 460,
     "status": "ok",
     "timestamp": 1733028521236,
     "user": {
      "displayName": "tien san",
      "userId": "04520947246998281854"
     },
     "user_tz": -600
    },
    "id": "TB20ZgWWTcn_",
    "outputId": "f999a46a-bea1-4864-98af-ebabcdad5504"
   },
   "outputs": [
    {
     "name": "stdout",
     "output_type": "stream",
     "text": [
      "[[0.56756472 0.34040342 0.70905626 0.32220152 0.6367141  0.7831633\n",
      "  0.42493344 0.68126484 0.09451267 0.60519286]\n",
      " [0.52777784 0.81480456 0.8978894  0.82679355 0.57242363 0.40686082\n",
      "  0.27592377 0.53691385 0.52192513 0.79256846]\n",
      " [0.57806751 0.13420686 0.47140249 0.59445377 0.33994441 0.21559031\n",
      "  0.78250912 0.46307609 0.39391954 0.64545744]\n",
      " [0.99531267 0.93616423 0.37084152 0.30224565 0.72665042 0.61955532\n",
      "  0.01585228 0.93134977 0.49499099 0.79417563]\n",
      " [0.15258395 0.71894225 0.93239707 0.70314934 0.8991647  0.37299095\n",
      "  0.75027489 0.12330225 0.59839508 0.3925171 ]\n",
      " [0.57433116 0.0793182  0.45860444 0.33349528 0.89307992 0.28445996\n",
      "  0.42609172 0.36889461 0.46332252 0.96405445]\n",
      " [0.75816662 0.05364912 0.58267646 0.74399134 0.11506891 0.4481781\n",
      "  0.97606205 0.33901962 0.34313344 0.61528568]\n",
      " [0.62414248 0.97716053 0.53608121 0.06036612 0.34284235 0.62496845\n",
      "  0.82387493 0.24330993 0.84664514 0.21045467]\n",
      " [0.83416191 0.56502281 0.05451802 0.07083496 0.71204659 0.13808944\n",
      "  0.92799179 0.56265153 0.40970871 0.78517341]\n",
      " [0.90301495 0.78753531 0.77239833 0.15425779 0.7961065  0.15185192\n",
      "  0.81360672 0.11219805 0.05412402 0.21030269]]\n"
     ]
    },
    {
     "data": {
      "text/plain": [
       "array([[-0.03354027, -0.30157911,  0.14967742, -0.00564688, -0.03766624,\n",
       "         0.39323741, -0.34145857,  0.26527949, -0.34200294, -0.0251787 ],\n",
       "       [-0.07332716,  0.17282203,  0.33851056,  0.49894515, -0.10195671,\n",
       "         0.01693493, -0.49046823,  0.1209285 ,  0.08540952,  0.1621969 ],\n",
       "       [-0.02303748, -0.50777567, -0.08797634,  0.26660536, -0.33443593,\n",
       "        -0.17433557,  0.01611711,  0.04709074, -0.04259607,  0.01508588],\n",
       "       [ 0.39420767,  0.2941817 , -0.18853732, -0.02560275,  0.05227008,\n",
       "         0.22962944, -0.75053972,  0.51536442,  0.05847538,  0.16380407],\n",
       "       [-0.44852104,  0.07695972,  0.37301823,  0.37530093,  0.22478436,\n",
       "        -0.01693493, -0.01611711, -0.2926831 ,  0.16187947, -0.23785446],\n",
       "       [-0.02677384, -0.56266433, -0.1007744 ,  0.00564688,  0.21869958,\n",
       "        -0.10546592, -0.34030029, -0.04709074,  0.02680691,  0.33368289],\n",
       "       [ 0.15706162, -0.58833342,  0.02329763,  0.41614293, -0.55931143,\n",
       "         0.05825221,  0.20967004, -0.07696573, -0.09338218, -0.01508588],\n",
       "       [ 0.02303748,  0.335178  , -0.02329763, -0.26748228, -0.33153799,\n",
       "         0.23504256,  0.05748292, -0.17267542,  0.41012953, -0.41991689],\n",
       "       [ 0.23305692, -0.07695972, -0.50486082, -0.25701344,  0.03766624,\n",
       "        -0.25183645,  0.16159978,  0.14666618, -0.02680691,  0.15480186],\n",
       "       [ 0.30190996,  0.14555278,  0.21301949, -0.17359061,  0.12172616,\n",
       "        -0.23807396,  0.04721472, -0.3037873 , -0.3823916 , -0.42006887]])"
      ]
     },
     "execution_count": 12,
     "metadata": {},
     "output_type": "execute_result"
    }
   ],
   "source": [
    "tmp = np.random.random_sample((10,10))\n",
    "print(tmp)\n",
    "tmp - np.median(tmp, axis = 0, keepdims=True)"
   ]
  },
  {
   "cell_type": "markdown",
   "metadata": {
    "id": "udr-hYa-Tcn_"
   },
   "source": [
    "12) Создать матрицу случайных чисел 5x5. Добавить к ней столбецы максимумов и минимумов по строкам. Получится матрица 5x7.  "
   ]
  },
  {
   "cell_type": "code",
   "execution_count": 13,
   "metadata": {
    "colab": {
     "base_uri": "https://localhost:8080/"
    },
    "id": "Ift1F94WTcn_",
    "outputId": "3c6151d3-b573-4431-c06a-08a77242837c"
   },
   "outputs": [
    {
     "data": {
      "text/plain": [
       "array([[0.40274841, 0.3176533 , 0.52203783, 0.61067328, 0.67707883,\n",
       "        0.67707883, 0.3176533 ],\n",
       "       [0.45051887, 0.64399707, 0.46928702, 0.79968825, 0.44832136,\n",
       "        0.79968825, 0.44832136],\n",
       "       [0.7904098 , 0.52203168, 0.00386814, 0.36033809, 0.94300945,\n",
       "        0.94300945, 0.00386814],\n",
       "       [0.13870623, 0.23900678, 0.73486443, 0.17336561, 0.40646635,\n",
       "        0.73486443, 0.13870623],\n",
       "       [0.58560801, 0.69081396, 0.9264431 , 0.29574725, 0.04756023,\n",
       "        0.9264431 , 0.04756023]])"
      ]
     },
     "execution_count": 13,
     "metadata": {},
     "output_type": "execute_result"
    }
   ],
   "source": [
    "tmp = np.random.random_sample((5,5))\n",
    "max = tmp.max(axis =1,keepdims=True)\n",
    "min = tmp.min(axis =1,keepdims=True)\n",
    "np.concatenate((tmp, max, min),axis = 1)"
   ]
  },
  {
   "cell_type": "markdown",
   "metadata": {
    "id": "k1LwLUraTcn_"
   },
   "source": [
    "13) Вектор чисел от 1 до 51 преобразовать в вектор нечетных чисел и в вектор четных чисел, поменять их размерности, чтобы получились две матрица. Найти произведение этих матриц. Найти обратную матрицу эётого произведения.  "
   ]
  },
  {
   "cell_type": "code",
   "execution_count": 14,
   "metadata": {
    "colab": {
     "base_uri": "https://localhost:8080/",
     "height": 581
    },
    "id": "gkLbbuMqTcn_",
    "outputId": "4f310dfc-a38a-469c-c027-cc7ed76dd992"
   },
   "outputs": [
    {
     "name": "stdout",
     "output_type": "stream",
     "text": [
      "[[ 1  3  5  7  9]\n",
      " [11 13 15 17 19]\n",
      " [21 23 25 27 29]\n",
      " [31 33 35 37 39]\n",
      " [41 43 45 47 49]]\n",
      "[[ 2  4  6  8 10]\n",
      " [12 14 16 18 20]\n",
      " [22 24 26 28 30]\n",
      " [32 34 36 38 40]\n",
      " [42 44 46 48 50]]\n",
      "[[ 750  800  850  900  950]\n",
      " [1850 2000 2150 2300 2450]\n",
      " [2950 3200 3450 3700 3950]\n",
      " [4050 4400 4750 5100 5450]\n",
      " [5150 5600 6050 6500 6950]]\n"
     ]
    },
    {
     "ename": "LinAlgError",
     "evalue": "Singular matrix",
     "output_type": "error",
     "traceback": [
      "\u001b[1;31m---------------------------------------------------------------------------\u001b[0m",
      "\u001b[1;31mLinAlgError\u001b[0m                               Traceback (most recent call last)",
      "Cell \u001b[1;32mIn[14], line 7\u001b[0m\n\u001b[0;32m      5\u001b[0m tmp3 \u001b[38;5;241m=\u001b[39m tmp1\u001b[38;5;129m@tmp2\u001b[39m\n\u001b[0;32m      6\u001b[0m \u001b[38;5;28mprint\u001b[39m(tmp3)\n\u001b[1;32m----> 7\u001b[0m \u001b[43mnp\u001b[49m\u001b[38;5;241;43m.\u001b[39;49m\u001b[43mlinalg\u001b[49m\u001b[38;5;241;43m.\u001b[39;49m\u001b[43minv\u001b[49m\u001b[43m(\u001b[49m\u001b[43mtmp3\u001b[49m\u001b[43m)\u001b[49m \u001b[38;5;66;03m# обратной матрицы не существует\u001b[39;00m\n",
      "File \u001b[1;32mc:\\Python\\lib\\site-packages\\numpy\\linalg\\linalg.py:561\u001b[0m, in \u001b[0;36minv\u001b[1;34m(a)\u001b[0m\n\u001b[0;32m    559\u001b[0m signature \u001b[38;5;241m=\u001b[39m \u001b[38;5;124m'\u001b[39m\u001b[38;5;124mD->D\u001b[39m\u001b[38;5;124m'\u001b[39m \u001b[38;5;28;01mif\u001b[39;00m isComplexType(t) \u001b[38;5;28;01melse\u001b[39;00m \u001b[38;5;124m'\u001b[39m\u001b[38;5;124md->d\u001b[39m\u001b[38;5;124m'\u001b[39m\n\u001b[0;32m    560\u001b[0m extobj \u001b[38;5;241m=\u001b[39m get_linalg_error_extobj(_raise_linalgerror_singular)\n\u001b[1;32m--> 561\u001b[0m ainv \u001b[38;5;241m=\u001b[39m \u001b[43m_umath_linalg\u001b[49m\u001b[38;5;241;43m.\u001b[39;49m\u001b[43minv\u001b[49m\u001b[43m(\u001b[49m\u001b[43ma\u001b[49m\u001b[43m,\u001b[49m\u001b[43m \u001b[49m\u001b[43msignature\u001b[49m\u001b[38;5;241;43m=\u001b[39;49m\u001b[43msignature\u001b[49m\u001b[43m,\u001b[49m\u001b[43m \u001b[49m\u001b[43mextobj\u001b[49m\u001b[38;5;241;43m=\u001b[39;49m\u001b[43mextobj\u001b[49m\u001b[43m)\u001b[49m\n\u001b[0;32m    562\u001b[0m \u001b[38;5;28;01mreturn\u001b[39;00m wrap(ainv\u001b[38;5;241m.\u001b[39mastype(result_t, copy\u001b[38;5;241m=\u001b[39m\u001b[38;5;28;01mFalse\u001b[39;00m))\n",
      "File \u001b[1;32mc:\\Python\\lib\\site-packages\\numpy\\linalg\\linalg.py:112\u001b[0m, in \u001b[0;36m_raise_linalgerror_singular\u001b[1;34m(err, flag)\u001b[0m\n\u001b[0;32m    111\u001b[0m \u001b[38;5;28;01mdef\u001b[39;00m \u001b[38;5;21m_raise_linalgerror_singular\u001b[39m(err, flag):\n\u001b[1;32m--> 112\u001b[0m     \u001b[38;5;28;01mraise\u001b[39;00m LinAlgError(\u001b[38;5;124m\"\u001b[39m\u001b[38;5;124mSingular matrix\u001b[39m\u001b[38;5;124m\"\u001b[39m)\n",
      "\u001b[1;31mLinAlgError\u001b[0m: Singular matrix"
     ]
    }
   ],
   "source": [
    "tmp1 =np.mat(np.arange(0,51)[1::2]).reshape(5,5)\n",
    "print(tmp1)\n",
    "tmp2 =np.mat(np.arange(0,51)[2::2]).reshape(5,5)\n",
    "print(tmp2)\n",
    "tmp3 = tmp1@tmp2\n",
    "print(tmp3)\n",
    "np.linalg.inv(tmp3) # обратной матрицы не существует"
   ]
  },
  {
   "cell_type": "markdown",
   "metadata": {
    "id": "tZagc_JzTcn_"
   },
   "source": [
    "14) Создать 8x8 матрицу и заполнить её в шахматном порядке нулями и единицами."
   ]
  },
  {
   "cell_type": "code",
   "execution_count": 15,
   "metadata": {
    "colab": {
     "base_uri": "https://localhost:8080/"
    },
    "id": "uScSnjb9Tcn_",
    "outputId": "c542dcb3-ea8f-4aea-f15b-e8238aa95a7b"
   },
   "outputs": [
    {
     "data": {
      "text/plain": [
       "array([[0, 1, 0, 1, 0, 1, 0, 1],\n",
       "       [1, 0, 1, 0, 1, 0, 1, 0],\n",
       "       [0, 1, 0, 1, 0, 1, 0, 1],\n",
       "       [1, 0, 1, 0, 1, 0, 1, 0],\n",
       "       [0, 1, 0, 1, 0, 1, 0, 1],\n",
       "       [1, 0, 1, 0, 1, 0, 1, 0],\n",
       "       [0, 1, 0, 1, 0, 1, 0, 1],\n",
       "       [1, 0, 1, 0, 1, 0, 1, 0]])"
      ]
     },
     "execution_count": 15,
     "metadata": {},
     "output_type": "execute_result"
    }
   ],
   "source": [
    "tmp = np.zeros((8,8), dtype=int)\n",
    "tmp[1::2,::2] = 1\n",
    "tmp[::2,1::2] = 1\n",
    "tmp"
   ]
  }
 ],
 "metadata": {
  "colab": {
   "provenance": []
  },
  "kernelspec": {
   "display_name": "Python 3",
   "language": "python",
   "name": "python3"
  },
  "language_info": {
   "codemirror_mode": {
    "name": "ipython",
    "version": 3
   },
   "file_extension": ".py",
   "mimetype": "text/x-python",
   "name": "python",
   "nbconvert_exporter": "python",
   "pygments_lexer": "ipython3",
   "version": "3.10.6"
  }
 },
 "nbformat": 4,
 "nbformat_minor": 0
}
